{
  "nbformat": 4,
  "nbformat_minor": 0,
  "metadata": {
    "colab": {
      "provenance": [],
      "include_colab_link": true
    },
    "kernelspec": {
      "name": "python3",
      "display_name": "Python 3"
    },
    "language_info": {
      "name": "python"
    },
    "widgets": {
      "application/vnd.jupyter.widget-state+json": {
        "ce646d47efbc4154af8fdf1836d3daa7": {
          "model_module": "@jupyter-widgets/controls",
          "model_name": "HBoxModel",
          "model_module_version": "1.5.0",
          "state": {
            "_dom_classes": [],
            "_model_module": "@jupyter-widgets/controls",
            "_model_module_version": "1.5.0",
            "_model_name": "HBoxModel",
            "_view_count": null,
            "_view_module": "@jupyter-widgets/controls",
            "_view_module_version": "1.5.0",
            "_view_name": "HBoxView",
            "box_style": "",
            "children": [
              "IPY_MODEL_68fed4373ecd46a88137440df7a69613",
              "IPY_MODEL_ce9b5551bf76475997d08d6fe47d7c44",
              "IPY_MODEL_0fa0d11f68d64301a813c1981048c6d1"
            ],
            "layout": "IPY_MODEL_268bdb741be041b8830e40593ae69439"
          }
        },
        "68fed4373ecd46a88137440df7a69613": {
          "model_module": "@jupyter-widgets/controls",
          "model_name": "HTMLModel",
          "model_module_version": "1.5.0",
          "state": {
            "_dom_classes": [],
            "_model_module": "@jupyter-widgets/controls",
            "_model_module_version": "1.5.0",
            "_model_name": "HTMLModel",
            "_view_count": null,
            "_view_module": "@jupyter-widgets/controls",
            "_view_module_version": "1.5.0",
            "_view_name": "HTMLView",
            "description": "",
            "description_tooltip": null,
            "layout": "IPY_MODEL_ee2fb1983ee74a3c9d4d83a34546afe9",
            "placeholder": "​",
            "style": "IPY_MODEL_1529d2f098804f25a45dc1e985cc533f",
            "value": " 35%"
          }
        },
        "ce9b5551bf76475997d08d6fe47d7c44": {
          "model_module": "@jupyter-widgets/controls",
          "model_name": "FloatProgressModel",
          "model_module_version": "1.5.0",
          "state": {
            "_dom_classes": [],
            "_model_module": "@jupyter-widgets/controls",
            "_model_module_version": "1.5.0",
            "_model_name": "FloatProgressModel",
            "_view_count": null,
            "_view_module": "@jupyter-widgets/controls",
            "_view_module_version": "1.5.0",
            "_view_name": "ProgressView",
            "bar_style": "danger",
            "description": "",
            "description_tooltip": null,
            "layout": "IPY_MODEL_6b4bd4dc9116499b9ec8fd61310395e0",
            "max": 1000,
            "min": 0,
            "orientation": "horizontal",
            "style": "IPY_MODEL_998ee874aba946ca8c6af0254206d422",
            "value": 348
          }
        },
        "0fa0d11f68d64301a813c1981048c6d1": {
          "model_module": "@jupyter-widgets/controls",
          "model_name": "HTMLModel",
          "model_module_version": "1.5.0",
          "state": {
            "_dom_classes": [],
            "_model_module": "@jupyter-widgets/controls",
            "_model_module_version": "1.5.0",
            "_model_name": "HTMLModel",
            "_view_count": null,
            "_view_module": "@jupyter-widgets/controls",
            "_view_module_version": "1.5.0",
            "_view_name": "HTMLView",
            "description": "",
            "description_tooltip": null,
            "layout": "IPY_MODEL_054d714edc7b40ef9a9514aa40e9c37f",
            "placeholder": "​",
            "style": "IPY_MODEL_d370eb58d7314fe9969d71c3453add0c",
            "value": " 348/1000 [00:04&lt;00:06, 104.35it/s]"
          }
        },
        "268bdb741be041b8830e40593ae69439": {
          "model_module": "@jupyter-widgets/base",
          "model_name": "LayoutModel",
          "model_module_version": "1.2.0",
          "state": {
            "_model_module": "@jupyter-widgets/base",
            "_model_module_version": "1.2.0",
            "_model_name": "LayoutModel",
            "_view_count": null,
            "_view_module": "@jupyter-widgets/base",
            "_view_module_version": "1.2.0",
            "_view_name": "LayoutView",
            "align_content": null,
            "align_items": null,
            "align_self": null,
            "border": null,
            "bottom": null,
            "display": null,
            "flex": null,
            "flex_flow": null,
            "grid_area": null,
            "grid_auto_columns": null,
            "grid_auto_flow": null,
            "grid_auto_rows": null,
            "grid_column": null,
            "grid_gap": null,
            "grid_row": null,
            "grid_template_areas": null,
            "grid_template_columns": null,
            "grid_template_rows": null,
            "height": null,
            "justify_content": null,
            "justify_items": null,
            "left": null,
            "margin": null,
            "max_height": null,
            "max_width": null,
            "min_height": null,
            "min_width": null,
            "object_fit": null,
            "object_position": null,
            "order": null,
            "overflow": null,
            "overflow_x": null,
            "overflow_y": null,
            "padding": null,
            "right": null,
            "top": null,
            "visibility": null,
            "width": null
          }
        },
        "ee2fb1983ee74a3c9d4d83a34546afe9": {
          "model_module": "@jupyter-widgets/base",
          "model_name": "LayoutModel",
          "model_module_version": "1.2.0",
          "state": {
            "_model_module": "@jupyter-widgets/base",
            "_model_module_version": "1.2.0",
            "_model_name": "LayoutModel",
            "_view_count": null,
            "_view_module": "@jupyter-widgets/base",
            "_view_module_version": "1.2.0",
            "_view_name": "LayoutView",
            "align_content": null,
            "align_items": null,
            "align_self": null,
            "border": null,
            "bottom": null,
            "display": null,
            "flex": null,
            "flex_flow": null,
            "grid_area": null,
            "grid_auto_columns": null,
            "grid_auto_flow": null,
            "grid_auto_rows": null,
            "grid_column": null,
            "grid_gap": null,
            "grid_row": null,
            "grid_template_areas": null,
            "grid_template_columns": null,
            "grid_template_rows": null,
            "height": null,
            "justify_content": null,
            "justify_items": null,
            "left": null,
            "margin": null,
            "max_height": null,
            "max_width": null,
            "min_height": null,
            "min_width": null,
            "object_fit": null,
            "object_position": null,
            "order": null,
            "overflow": null,
            "overflow_x": null,
            "overflow_y": null,
            "padding": null,
            "right": null,
            "top": null,
            "visibility": null,
            "width": null
          }
        },
        "1529d2f098804f25a45dc1e985cc533f": {
          "model_module": "@jupyter-widgets/controls",
          "model_name": "DescriptionStyleModel",
          "model_module_version": "1.5.0",
          "state": {
            "_model_module": "@jupyter-widgets/controls",
            "_model_module_version": "1.5.0",
            "_model_name": "DescriptionStyleModel",
            "_view_count": null,
            "_view_module": "@jupyter-widgets/base",
            "_view_module_version": "1.2.0",
            "_view_name": "StyleView",
            "description_width": ""
          }
        },
        "6b4bd4dc9116499b9ec8fd61310395e0": {
          "model_module": "@jupyter-widgets/base",
          "model_name": "LayoutModel",
          "model_module_version": "1.2.0",
          "state": {
            "_model_module": "@jupyter-widgets/base",
            "_model_module_version": "1.2.0",
            "_model_name": "LayoutModel",
            "_view_count": null,
            "_view_module": "@jupyter-widgets/base",
            "_view_module_version": "1.2.0",
            "_view_name": "LayoutView",
            "align_content": null,
            "align_items": null,
            "align_self": null,
            "border": null,
            "bottom": null,
            "display": null,
            "flex": null,
            "flex_flow": null,
            "grid_area": null,
            "grid_auto_columns": null,
            "grid_auto_flow": null,
            "grid_auto_rows": null,
            "grid_column": null,
            "grid_gap": null,
            "grid_row": null,
            "grid_template_areas": null,
            "grid_template_columns": null,
            "grid_template_rows": null,
            "height": null,
            "justify_content": null,
            "justify_items": null,
            "left": null,
            "margin": null,
            "max_height": null,
            "max_width": null,
            "min_height": null,
            "min_width": null,
            "object_fit": null,
            "object_position": null,
            "order": null,
            "overflow": null,
            "overflow_x": null,
            "overflow_y": null,
            "padding": null,
            "right": null,
            "top": null,
            "visibility": null,
            "width": null
          }
        },
        "998ee874aba946ca8c6af0254206d422": {
          "model_module": "@jupyter-widgets/controls",
          "model_name": "ProgressStyleModel",
          "model_module_version": "1.5.0",
          "state": {
            "_model_module": "@jupyter-widgets/controls",
            "_model_module_version": "1.5.0",
            "_model_name": "ProgressStyleModel",
            "_view_count": null,
            "_view_module": "@jupyter-widgets/base",
            "_view_module_version": "1.2.0",
            "_view_name": "StyleView",
            "bar_color": null,
            "description_width": ""
          }
        },
        "054d714edc7b40ef9a9514aa40e9c37f": {
          "model_module": "@jupyter-widgets/base",
          "model_name": "LayoutModel",
          "model_module_version": "1.2.0",
          "state": {
            "_model_module": "@jupyter-widgets/base",
            "_model_module_version": "1.2.0",
            "_model_name": "LayoutModel",
            "_view_count": null,
            "_view_module": "@jupyter-widgets/base",
            "_view_module_version": "1.2.0",
            "_view_name": "LayoutView",
            "align_content": null,
            "align_items": null,
            "align_self": null,
            "border": null,
            "bottom": null,
            "display": null,
            "flex": null,
            "flex_flow": null,
            "grid_area": null,
            "grid_auto_columns": null,
            "grid_auto_flow": null,
            "grid_auto_rows": null,
            "grid_column": null,
            "grid_gap": null,
            "grid_row": null,
            "grid_template_areas": null,
            "grid_template_columns": null,
            "grid_template_rows": null,
            "height": null,
            "justify_content": null,
            "justify_items": null,
            "left": null,
            "margin": null,
            "max_height": null,
            "max_width": null,
            "min_height": null,
            "min_width": null,
            "object_fit": null,
            "object_position": null,
            "order": null,
            "overflow": null,
            "overflow_x": null,
            "overflow_y": null,
            "padding": null,
            "right": null,
            "top": null,
            "visibility": null,
            "width": null
          }
        },
        "d370eb58d7314fe9969d71c3453add0c": {
          "model_module": "@jupyter-widgets/controls",
          "model_name": "DescriptionStyleModel",
          "model_module_version": "1.5.0",
          "state": {
            "_model_module": "@jupyter-widgets/controls",
            "_model_module_version": "1.5.0",
            "_model_name": "DescriptionStyleModel",
            "_view_count": null,
            "_view_module": "@jupyter-widgets/base",
            "_view_module_version": "1.2.0",
            "_view_name": "StyleView",
            "description_width": ""
          }
        },
        "659eb4d7cd1446efb9b9d3bd8562a75e": {
          "model_module": "@jupyter-widgets/controls",
          "model_name": "HBoxModel",
          "model_module_version": "1.5.0",
          "state": {
            "_dom_classes": [],
            "_model_module": "@jupyter-widgets/controls",
            "_model_module_version": "1.5.0",
            "_model_name": "HBoxModel",
            "_view_count": null,
            "_view_module": "@jupyter-widgets/controls",
            "_view_module_version": "1.5.0",
            "_view_name": "HBoxView",
            "box_style": "",
            "children": [
              "IPY_MODEL_c94f2f9cb358481a90996c644dc4035c",
              "IPY_MODEL_b917945f05f145a0a9f96b3c31070668",
              "IPY_MODEL_00189612d0ab407a88e3ff90a0703193"
            ],
            "layout": "IPY_MODEL_35b6dcd08f214883a510ce87b7e0f5e3"
          }
        },
        "c94f2f9cb358481a90996c644dc4035c": {
          "model_module": "@jupyter-widgets/controls",
          "model_name": "HTMLModel",
          "model_module_version": "1.5.0",
          "state": {
            "_dom_classes": [],
            "_model_module": "@jupyter-widgets/controls",
            "_model_module_version": "1.5.0",
            "_model_name": "HTMLModel",
            "_view_count": null,
            "_view_module": "@jupyter-widgets/controls",
            "_view_module_version": "1.5.0",
            "_view_name": "HTMLView",
            "description": "",
            "description_tooltip": null,
            "layout": "IPY_MODEL_505d167130814403b92e0666de63f140",
            "placeholder": "​",
            "style": "IPY_MODEL_f7358ee98e804c44939df30265034428",
            "value": " 34%"
          }
        },
        "b917945f05f145a0a9f96b3c31070668": {
          "model_module": "@jupyter-widgets/controls",
          "model_name": "FloatProgressModel",
          "model_module_version": "1.5.0",
          "state": {
            "_dom_classes": [],
            "_model_module": "@jupyter-widgets/controls",
            "_model_module_version": "1.5.0",
            "_model_name": "FloatProgressModel",
            "_view_count": null,
            "_view_module": "@jupyter-widgets/controls",
            "_view_module_version": "1.5.0",
            "_view_name": "ProgressView",
            "bar_style": "danger",
            "description": "",
            "description_tooltip": null,
            "layout": "IPY_MODEL_bc522676c78a43b7ad6680520acee6bf",
            "max": 1000,
            "min": 0,
            "orientation": "horizontal",
            "style": "IPY_MODEL_876ad90254b440b18e999de4868ca1f1",
            "value": 345
          }
        },
        "00189612d0ab407a88e3ff90a0703193": {
          "model_module": "@jupyter-widgets/controls",
          "model_name": "HTMLModel",
          "model_module_version": "1.5.0",
          "state": {
            "_dom_classes": [],
            "_model_module": "@jupyter-widgets/controls",
            "_model_module_version": "1.5.0",
            "_model_name": "HTMLModel",
            "_view_count": null,
            "_view_module": "@jupyter-widgets/controls",
            "_view_module_version": "1.5.0",
            "_view_name": "HTMLView",
            "description": "",
            "description_tooltip": null,
            "layout": "IPY_MODEL_67bb15d44833450893184d0d9cdc7a15",
            "placeholder": "​",
            "style": "IPY_MODEL_7afd538c82a3456686a1724b6b283662",
            "value": " 345/1000 [00:04&lt;00:04, 143.46it/s]"
          }
        },
        "35b6dcd08f214883a510ce87b7e0f5e3": {
          "model_module": "@jupyter-widgets/base",
          "model_name": "LayoutModel",
          "model_module_version": "1.2.0",
          "state": {
            "_model_module": "@jupyter-widgets/base",
            "_model_module_version": "1.2.0",
            "_model_name": "LayoutModel",
            "_view_count": null,
            "_view_module": "@jupyter-widgets/base",
            "_view_module_version": "1.2.0",
            "_view_name": "LayoutView",
            "align_content": null,
            "align_items": null,
            "align_self": null,
            "border": null,
            "bottom": null,
            "display": null,
            "flex": null,
            "flex_flow": null,
            "grid_area": null,
            "grid_auto_columns": null,
            "grid_auto_flow": null,
            "grid_auto_rows": null,
            "grid_column": null,
            "grid_gap": null,
            "grid_row": null,
            "grid_template_areas": null,
            "grid_template_columns": null,
            "grid_template_rows": null,
            "height": null,
            "justify_content": null,
            "justify_items": null,
            "left": null,
            "margin": null,
            "max_height": null,
            "max_width": null,
            "min_height": null,
            "min_width": null,
            "object_fit": null,
            "object_position": null,
            "order": null,
            "overflow": null,
            "overflow_x": null,
            "overflow_y": null,
            "padding": null,
            "right": null,
            "top": null,
            "visibility": null,
            "width": null
          }
        },
        "505d167130814403b92e0666de63f140": {
          "model_module": "@jupyter-widgets/base",
          "model_name": "LayoutModel",
          "model_module_version": "1.2.0",
          "state": {
            "_model_module": "@jupyter-widgets/base",
            "_model_module_version": "1.2.0",
            "_model_name": "LayoutModel",
            "_view_count": null,
            "_view_module": "@jupyter-widgets/base",
            "_view_module_version": "1.2.0",
            "_view_name": "LayoutView",
            "align_content": null,
            "align_items": null,
            "align_self": null,
            "border": null,
            "bottom": null,
            "display": null,
            "flex": null,
            "flex_flow": null,
            "grid_area": null,
            "grid_auto_columns": null,
            "grid_auto_flow": null,
            "grid_auto_rows": null,
            "grid_column": null,
            "grid_gap": null,
            "grid_row": null,
            "grid_template_areas": null,
            "grid_template_columns": null,
            "grid_template_rows": null,
            "height": null,
            "justify_content": null,
            "justify_items": null,
            "left": null,
            "margin": null,
            "max_height": null,
            "max_width": null,
            "min_height": null,
            "min_width": null,
            "object_fit": null,
            "object_position": null,
            "order": null,
            "overflow": null,
            "overflow_x": null,
            "overflow_y": null,
            "padding": null,
            "right": null,
            "top": null,
            "visibility": null,
            "width": null
          }
        },
        "f7358ee98e804c44939df30265034428": {
          "model_module": "@jupyter-widgets/controls",
          "model_name": "DescriptionStyleModel",
          "model_module_version": "1.5.0",
          "state": {
            "_model_module": "@jupyter-widgets/controls",
            "_model_module_version": "1.5.0",
            "_model_name": "DescriptionStyleModel",
            "_view_count": null,
            "_view_module": "@jupyter-widgets/base",
            "_view_module_version": "1.2.0",
            "_view_name": "StyleView",
            "description_width": ""
          }
        },
        "bc522676c78a43b7ad6680520acee6bf": {
          "model_module": "@jupyter-widgets/base",
          "model_name": "LayoutModel",
          "model_module_version": "1.2.0",
          "state": {
            "_model_module": "@jupyter-widgets/base",
            "_model_module_version": "1.2.0",
            "_model_name": "LayoutModel",
            "_view_count": null,
            "_view_module": "@jupyter-widgets/base",
            "_view_module_version": "1.2.0",
            "_view_name": "LayoutView",
            "align_content": null,
            "align_items": null,
            "align_self": null,
            "border": null,
            "bottom": null,
            "display": null,
            "flex": null,
            "flex_flow": null,
            "grid_area": null,
            "grid_auto_columns": null,
            "grid_auto_flow": null,
            "grid_auto_rows": null,
            "grid_column": null,
            "grid_gap": null,
            "grid_row": null,
            "grid_template_areas": null,
            "grid_template_columns": null,
            "grid_template_rows": null,
            "height": null,
            "justify_content": null,
            "justify_items": null,
            "left": null,
            "margin": null,
            "max_height": null,
            "max_width": null,
            "min_height": null,
            "min_width": null,
            "object_fit": null,
            "object_position": null,
            "order": null,
            "overflow": null,
            "overflow_x": null,
            "overflow_y": null,
            "padding": null,
            "right": null,
            "top": null,
            "visibility": null,
            "width": null
          }
        },
        "876ad90254b440b18e999de4868ca1f1": {
          "model_module": "@jupyter-widgets/controls",
          "model_name": "ProgressStyleModel",
          "model_module_version": "1.5.0",
          "state": {
            "_model_module": "@jupyter-widgets/controls",
            "_model_module_version": "1.5.0",
            "_model_name": "ProgressStyleModel",
            "_view_count": null,
            "_view_module": "@jupyter-widgets/base",
            "_view_module_version": "1.2.0",
            "_view_name": "StyleView",
            "bar_color": null,
            "description_width": ""
          }
        },
        "67bb15d44833450893184d0d9cdc7a15": {
          "model_module": "@jupyter-widgets/base",
          "model_name": "LayoutModel",
          "model_module_version": "1.2.0",
          "state": {
            "_model_module": "@jupyter-widgets/base",
            "_model_module_version": "1.2.0",
            "_model_name": "LayoutModel",
            "_view_count": null,
            "_view_module": "@jupyter-widgets/base",
            "_view_module_version": "1.2.0",
            "_view_name": "LayoutView",
            "align_content": null,
            "align_items": null,
            "align_self": null,
            "border": null,
            "bottom": null,
            "display": null,
            "flex": null,
            "flex_flow": null,
            "grid_area": null,
            "grid_auto_columns": null,
            "grid_auto_flow": null,
            "grid_auto_rows": null,
            "grid_column": null,
            "grid_gap": null,
            "grid_row": null,
            "grid_template_areas": null,
            "grid_template_columns": null,
            "grid_template_rows": null,
            "height": null,
            "justify_content": null,
            "justify_items": null,
            "left": null,
            "margin": null,
            "max_height": null,
            "max_width": null,
            "min_height": null,
            "min_width": null,
            "object_fit": null,
            "object_position": null,
            "order": null,
            "overflow": null,
            "overflow_x": null,
            "overflow_y": null,
            "padding": null,
            "right": null,
            "top": null,
            "visibility": null,
            "width": null
          }
        },
        "7afd538c82a3456686a1724b6b283662": {
          "model_module": "@jupyter-widgets/controls",
          "model_name": "DescriptionStyleModel",
          "model_module_version": "1.5.0",
          "state": {
            "_model_module": "@jupyter-widgets/controls",
            "_model_module_version": "1.5.0",
            "_model_name": "DescriptionStyleModel",
            "_view_count": null,
            "_view_module": "@jupyter-widgets/base",
            "_view_module_version": "1.2.0",
            "_view_name": "StyleView",
            "description_width": ""
          }
        },
        "be0f79b74b02436fab539001151acf4e": {
          "model_module": "@jupyter-widgets/controls",
          "model_name": "HBoxModel",
          "model_module_version": "1.5.0",
          "state": {
            "_dom_classes": [],
            "_model_module": "@jupyter-widgets/controls",
            "_model_module_version": "1.5.0",
            "_model_name": "HBoxModel",
            "_view_count": null,
            "_view_module": "@jupyter-widgets/controls",
            "_view_module_version": "1.5.0",
            "_view_name": "HBoxView",
            "box_style": "",
            "children": [
              "IPY_MODEL_a0eba27008604ee3ba12498bd62e87f2",
              "IPY_MODEL_d7a84a5c3d744cfeacf8064e33cd443f",
              "IPY_MODEL_82404a4feaf94f4f8349a735329e606b"
            ],
            "layout": "IPY_MODEL_3d55ee079d6e4a3da5eb10d53cbb402e"
          }
        },
        "a0eba27008604ee3ba12498bd62e87f2": {
          "model_module": "@jupyter-widgets/controls",
          "model_name": "HTMLModel",
          "model_module_version": "1.5.0",
          "state": {
            "_dom_classes": [],
            "_model_module": "@jupyter-widgets/controls",
            "_model_module_version": "1.5.0",
            "_model_name": "HTMLModel",
            "_view_count": null,
            "_view_module": "@jupyter-widgets/controls",
            "_view_module_version": "1.5.0",
            "_view_name": "HTMLView",
            "description": "",
            "description_tooltip": null,
            "layout": "IPY_MODEL_f4ae4ff502f1417592d6aba2f0db1b94",
            "placeholder": "​",
            "style": "IPY_MODEL_044efe908fed4695a91ac9024d6594da",
            "value": " 33%"
          }
        },
        "d7a84a5c3d744cfeacf8064e33cd443f": {
          "model_module": "@jupyter-widgets/controls",
          "model_name": "FloatProgressModel",
          "model_module_version": "1.5.0",
          "state": {
            "_dom_classes": [],
            "_model_module": "@jupyter-widgets/controls",
            "_model_module_version": "1.5.0",
            "_model_name": "FloatProgressModel",
            "_view_count": null,
            "_view_module": "@jupyter-widgets/controls",
            "_view_module_version": "1.5.0",
            "_view_name": "ProgressView",
            "bar_style": "danger",
            "description": "",
            "description_tooltip": null,
            "layout": "IPY_MODEL_d6e4ae75be544b74a371d62f5c0c2842",
            "max": 1000,
            "min": 0,
            "orientation": "horizontal",
            "style": "IPY_MODEL_17ea0451d04a4fd49781e043fb56ebd8",
            "value": 330
          }
        },
        "82404a4feaf94f4f8349a735329e606b": {
          "model_module": "@jupyter-widgets/controls",
          "model_name": "HTMLModel",
          "model_module_version": "1.5.0",
          "state": {
            "_dom_classes": [],
            "_model_module": "@jupyter-widgets/controls",
            "_model_module_version": "1.5.0",
            "_model_name": "HTMLModel",
            "_view_count": null,
            "_view_module": "@jupyter-widgets/controls",
            "_view_module_version": "1.5.0",
            "_view_name": "HTMLView",
            "description": "",
            "description_tooltip": null,
            "layout": "IPY_MODEL_a5694499f68446aa969e7bf7da9bdfcd",
            "placeholder": "​",
            "style": "IPY_MODEL_bfc082d18698430bb5ee19772d70afe2",
            "value": " 330/1000 [00:03&lt;00:04, 148.63it/s]"
          }
        },
        "3d55ee079d6e4a3da5eb10d53cbb402e": {
          "model_module": "@jupyter-widgets/base",
          "model_name": "LayoutModel",
          "model_module_version": "1.2.0",
          "state": {
            "_model_module": "@jupyter-widgets/base",
            "_model_module_version": "1.2.0",
            "_model_name": "LayoutModel",
            "_view_count": null,
            "_view_module": "@jupyter-widgets/base",
            "_view_module_version": "1.2.0",
            "_view_name": "LayoutView",
            "align_content": null,
            "align_items": null,
            "align_self": null,
            "border": null,
            "bottom": null,
            "display": null,
            "flex": null,
            "flex_flow": null,
            "grid_area": null,
            "grid_auto_columns": null,
            "grid_auto_flow": null,
            "grid_auto_rows": null,
            "grid_column": null,
            "grid_gap": null,
            "grid_row": null,
            "grid_template_areas": null,
            "grid_template_columns": null,
            "grid_template_rows": null,
            "height": null,
            "justify_content": null,
            "justify_items": null,
            "left": null,
            "margin": null,
            "max_height": null,
            "max_width": null,
            "min_height": null,
            "min_width": null,
            "object_fit": null,
            "object_position": null,
            "order": null,
            "overflow": null,
            "overflow_x": null,
            "overflow_y": null,
            "padding": null,
            "right": null,
            "top": null,
            "visibility": null,
            "width": null
          }
        },
        "f4ae4ff502f1417592d6aba2f0db1b94": {
          "model_module": "@jupyter-widgets/base",
          "model_name": "LayoutModel",
          "model_module_version": "1.2.0",
          "state": {
            "_model_module": "@jupyter-widgets/base",
            "_model_module_version": "1.2.0",
            "_model_name": "LayoutModel",
            "_view_count": null,
            "_view_module": "@jupyter-widgets/base",
            "_view_module_version": "1.2.0",
            "_view_name": "LayoutView",
            "align_content": null,
            "align_items": null,
            "align_self": null,
            "border": null,
            "bottom": null,
            "display": null,
            "flex": null,
            "flex_flow": null,
            "grid_area": null,
            "grid_auto_columns": null,
            "grid_auto_flow": null,
            "grid_auto_rows": null,
            "grid_column": null,
            "grid_gap": null,
            "grid_row": null,
            "grid_template_areas": null,
            "grid_template_columns": null,
            "grid_template_rows": null,
            "height": null,
            "justify_content": null,
            "justify_items": null,
            "left": null,
            "margin": null,
            "max_height": null,
            "max_width": null,
            "min_height": null,
            "min_width": null,
            "object_fit": null,
            "object_position": null,
            "order": null,
            "overflow": null,
            "overflow_x": null,
            "overflow_y": null,
            "padding": null,
            "right": null,
            "top": null,
            "visibility": null,
            "width": null
          }
        },
        "044efe908fed4695a91ac9024d6594da": {
          "model_module": "@jupyter-widgets/controls",
          "model_name": "DescriptionStyleModel",
          "model_module_version": "1.5.0",
          "state": {
            "_model_module": "@jupyter-widgets/controls",
            "_model_module_version": "1.5.0",
            "_model_name": "DescriptionStyleModel",
            "_view_count": null,
            "_view_module": "@jupyter-widgets/base",
            "_view_module_version": "1.2.0",
            "_view_name": "StyleView",
            "description_width": ""
          }
        },
        "d6e4ae75be544b74a371d62f5c0c2842": {
          "model_module": "@jupyter-widgets/base",
          "model_name": "LayoutModel",
          "model_module_version": "1.2.0",
          "state": {
            "_model_module": "@jupyter-widgets/base",
            "_model_module_version": "1.2.0",
            "_model_name": "LayoutModel",
            "_view_count": null,
            "_view_module": "@jupyter-widgets/base",
            "_view_module_version": "1.2.0",
            "_view_name": "LayoutView",
            "align_content": null,
            "align_items": null,
            "align_self": null,
            "border": null,
            "bottom": null,
            "display": null,
            "flex": null,
            "flex_flow": null,
            "grid_area": null,
            "grid_auto_columns": null,
            "grid_auto_flow": null,
            "grid_auto_rows": null,
            "grid_column": null,
            "grid_gap": null,
            "grid_row": null,
            "grid_template_areas": null,
            "grid_template_columns": null,
            "grid_template_rows": null,
            "height": null,
            "justify_content": null,
            "justify_items": null,
            "left": null,
            "margin": null,
            "max_height": null,
            "max_width": null,
            "min_height": null,
            "min_width": null,
            "object_fit": null,
            "object_position": null,
            "order": null,
            "overflow": null,
            "overflow_x": null,
            "overflow_y": null,
            "padding": null,
            "right": null,
            "top": null,
            "visibility": null,
            "width": null
          }
        },
        "17ea0451d04a4fd49781e043fb56ebd8": {
          "model_module": "@jupyter-widgets/controls",
          "model_name": "ProgressStyleModel",
          "model_module_version": "1.5.0",
          "state": {
            "_model_module": "@jupyter-widgets/controls",
            "_model_module_version": "1.5.0",
            "_model_name": "ProgressStyleModel",
            "_view_count": null,
            "_view_module": "@jupyter-widgets/base",
            "_view_module_version": "1.2.0",
            "_view_name": "StyleView",
            "bar_color": null,
            "description_width": ""
          }
        },
        "a5694499f68446aa969e7bf7da9bdfcd": {
          "model_module": "@jupyter-widgets/base",
          "model_name": "LayoutModel",
          "model_module_version": "1.2.0",
          "state": {
            "_model_module": "@jupyter-widgets/base",
            "_model_module_version": "1.2.0",
            "_model_name": "LayoutModel",
            "_view_count": null,
            "_view_module": "@jupyter-widgets/base",
            "_view_module_version": "1.2.0",
            "_view_name": "LayoutView",
            "align_content": null,
            "align_items": null,
            "align_self": null,
            "border": null,
            "bottom": null,
            "display": null,
            "flex": null,
            "flex_flow": null,
            "grid_area": null,
            "grid_auto_columns": null,
            "grid_auto_flow": null,
            "grid_auto_rows": null,
            "grid_column": null,
            "grid_gap": null,
            "grid_row": null,
            "grid_template_areas": null,
            "grid_template_columns": null,
            "grid_template_rows": null,
            "height": null,
            "justify_content": null,
            "justify_items": null,
            "left": null,
            "margin": null,
            "max_height": null,
            "max_width": null,
            "min_height": null,
            "min_width": null,
            "object_fit": null,
            "object_position": null,
            "order": null,
            "overflow": null,
            "overflow_x": null,
            "overflow_y": null,
            "padding": null,
            "right": null,
            "top": null,
            "visibility": null,
            "width": null
          }
        },
        "bfc082d18698430bb5ee19772d70afe2": {
          "model_module": "@jupyter-widgets/controls",
          "model_name": "DescriptionStyleModel",
          "model_module_version": "1.5.0",
          "state": {
            "_model_module": "@jupyter-widgets/controls",
            "_model_module_version": "1.5.0",
            "_model_name": "DescriptionStyleModel",
            "_view_count": null,
            "_view_module": "@jupyter-widgets/base",
            "_view_module_version": "1.2.0",
            "_view_name": "StyleView",
            "description_width": ""
          }
        },
        "fdd9ef024f3f46318a6ea1ea4dcafeb9": {
          "model_module": "@jupyter-widgets/controls",
          "model_name": "HBoxModel",
          "model_module_version": "1.5.0",
          "state": {
            "_dom_classes": [],
            "_model_module": "@jupyter-widgets/controls",
            "_model_module_version": "1.5.0",
            "_model_name": "HBoxModel",
            "_view_count": null,
            "_view_module": "@jupyter-widgets/controls",
            "_view_module_version": "1.5.0",
            "_view_name": "HBoxView",
            "box_style": "",
            "children": [
              "IPY_MODEL_900c44302170412495b8340ebc4b2e4c",
              "IPY_MODEL_45997a75a47740839711d34102944583",
              "IPY_MODEL_c15bb7b31a834cfc9b103bd46278a21a"
            ],
            "layout": "IPY_MODEL_c9ffc82a62ad4b85be59576b400dbc4d"
          }
        },
        "900c44302170412495b8340ebc4b2e4c": {
          "model_module": "@jupyter-widgets/controls",
          "model_name": "HTMLModel",
          "model_module_version": "1.5.0",
          "state": {
            "_dom_classes": [],
            "_model_module": "@jupyter-widgets/controls",
            "_model_module_version": "1.5.0",
            "_model_name": "HTMLModel",
            "_view_count": null,
            "_view_module": "@jupyter-widgets/controls",
            "_view_module_version": "1.5.0",
            "_view_name": "HTMLView",
            "description": "",
            "description_tooltip": null,
            "layout": "IPY_MODEL_791903a7f7034bb5ab81d720d8478ce2",
            "placeholder": "​",
            "style": "IPY_MODEL_2e067e9ac16a4f688669aaf65880336e",
            "value": " 18%"
          }
        },
        "45997a75a47740839711d34102944583": {
          "model_module": "@jupyter-widgets/controls",
          "model_name": "FloatProgressModel",
          "model_module_version": "1.5.0",
          "state": {
            "_dom_classes": [],
            "_model_module": "@jupyter-widgets/controls",
            "_model_module_version": "1.5.0",
            "_model_name": "FloatProgressModel",
            "_view_count": null,
            "_view_module": "@jupyter-widgets/controls",
            "_view_module_version": "1.5.0",
            "_view_name": "ProgressView",
            "bar_style": "danger",
            "description": "",
            "description_tooltip": null,
            "layout": "IPY_MODEL_bb9cd2c9f190408a8babbf17ccff17e5",
            "max": 1000,
            "min": 0,
            "orientation": "horizontal",
            "style": "IPY_MODEL_e4364eb4df86416b88107d3b4166ce57",
            "value": 182
          }
        },
        "c15bb7b31a834cfc9b103bd46278a21a": {
          "model_module": "@jupyter-widgets/controls",
          "model_name": "HTMLModel",
          "model_module_version": "1.5.0",
          "state": {
            "_dom_classes": [],
            "_model_module": "@jupyter-widgets/controls",
            "_model_module_version": "1.5.0",
            "_model_name": "HTMLModel",
            "_view_count": null,
            "_view_module": "@jupyter-widgets/controls",
            "_view_module_version": "1.5.0",
            "_view_name": "HTMLView",
            "description": "",
            "description_tooltip": null,
            "layout": "IPY_MODEL_0072af8b95e14e2b9f5cdd62ce0702d3",
            "placeholder": "​",
            "style": "IPY_MODEL_8b31d8e4f2344bb1bd42fede0ea645ef",
            "value": " 182/1000 [00:02&lt;00:07, 115.84it/s]"
          }
        },
        "c9ffc82a62ad4b85be59576b400dbc4d": {
          "model_module": "@jupyter-widgets/base",
          "model_name": "LayoutModel",
          "model_module_version": "1.2.0",
          "state": {
            "_model_module": "@jupyter-widgets/base",
            "_model_module_version": "1.2.0",
            "_model_name": "LayoutModel",
            "_view_count": null,
            "_view_module": "@jupyter-widgets/base",
            "_view_module_version": "1.2.0",
            "_view_name": "LayoutView",
            "align_content": null,
            "align_items": null,
            "align_self": null,
            "border": null,
            "bottom": null,
            "display": null,
            "flex": null,
            "flex_flow": null,
            "grid_area": null,
            "grid_auto_columns": null,
            "grid_auto_flow": null,
            "grid_auto_rows": null,
            "grid_column": null,
            "grid_gap": null,
            "grid_row": null,
            "grid_template_areas": null,
            "grid_template_columns": null,
            "grid_template_rows": null,
            "height": null,
            "justify_content": null,
            "justify_items": null,
            "left": null,
            "margin": null,
            "max_height": null,
            "max_width": null,
            "min_height": null,
            "min_width": null,
            "object_fit": null,
            "object_position": null,
            "order": null,
            "overflow": null,
            "overflow_x": null,
            "overflow_y": null,
            "padding": null,
            "right": null,
            "top": null,
            "visibility": null,
            "width": null
          }
        },
        "791903a7f7034bb5ab81d720d8478ce2": {
          "model_module": "@jupyter-widgets/base",
          "model_name": "LayoutModel",
          "model_module_version": "1.2.0",
          "state": {
            "_model_module": "@jupyter-widgets/base",
            "_model_module_version": "1.2.0",
            "_model_name": "LayoutModel",
            "_view_count": null,
            "_view_module": "@jupyter-widgets/base",
            "_view_module_version": "1.2.0",
            "_view_name": "LayoutView",
            "align_content": null,
            "align_items": null,
            "align_self": null,
            "border": null,
            "bottom": null,
            "display": null,
            "flex": null,
            "flex_flow": null,
            "grid_area": null,
            "grid_auto_columns": null,
            "grid_auto_flow": null,
            "grid_auto_rows": null,
            "grid_column": null,
            "grid_gap": null,
            "grid_row": null,
            "grid_template_areas": null,
            "grid_template_columns": null,
            "grid_template_rows": null,
            "height": null,
            "justify_content": null,
            "justify_items": null,
            "left": null,
            "margin": null,
            "max_height": null,
            "max_width": null,
            "min_height": null,
            "min_width": null,
            "object_fit": null,
            "object_position": null,
            "order": null,
            "overflow": null,
            "overflow_x": null,
            "overflow_y": null,
            "padding": null,
            "right": null,
            "top": null,
            "visibility": null,
            "width": null
          }
        },
        "2e067e9ac16a4f688669aaf65880336e": {
          "model_module": "@jupyter-widgets/controls",
          "model_name": "DescriptionStyleModel",
          "model_module_version": "1.5.0",
          "state": {
            "_model_module": "@jupyter-widgets/controls",
            "_model_module_version": "1.5.0",
            "_model_name": "DescriptionStyleModel",
            "_view_count": null,
            "_view_module": "@jupyter-widgets/base",
            "_view_module_version": "1.2.0",
            "_view_name": "StyleView",
            "description_width": ""
          }
        },
        "bb9cd2c9f190408a8babbf17ccff17e5": {
          "model_module": "@jupyter-widgets/base",
          "model_name": "LayoutModel",
          "model_module_version": "1.2.0",
          "state": {
            "_model_module": "@jupyter-widgets/base",
            "_model_module_version": "1.2.0",
            "_model_name": "LayoutModel",
            "_view_count": null,
            "_view_module": "@jupyter-widgets/base",
            "_view_module_version": "1.2.0",
            "_view_name": "LayoutView",
            "align_content": null,
            "align_items": null,
            "align_self": null,
            "border": null,
            "bottom": null,
            "display": null,
            "flex": null,
            "flex_flow": null,
            "grid_area": null,
            "grid_auto_columns": null,
            "grid_auto_flow": null,
            "grid_auto_rows": null,
            "grid_column": null,
            "grid_gap": null,
            "grid_row": null,
            "grid_template_areas": null,
            "grid_template_columns": null,
            "grid_template_rows": null,
            "height": null,
            "justify_content": null,
            "justify_items": null,
            "left": null,
            "margin": null,
            "max_height": null,
            "max_width": null,
            "min_height": null,
            "min_width": null,
            "object_fit": null,
            "object_position": null,
            "order": null,
            "overflow": null,
            "overflow_x": null,
            "overflow_y": null,
            "padding": null,
            "right": null,
            "top": null,
            "visibility": null,
            "width": null
          }
        },
        "e4364eb4df86416b88107d3b4166ce57": {
          "model_module": "@jupyter-widgets/controls",
          "model_name": "ProgressStyleModel",
          "model_module_version": "1.5.0",
          "state": {
            "_model_module": "@jupyter-widgets/controls",
            "_model_module_version": "1.5.0",
            "_model_name": "ProgressStyleModel",
            "_view_count": null,
            "_view_module": "@jupyter-widgets/base",
            "_view_module_version": "1.2.0",
            "_view_name": "StyleView",
            "bar_color": null,
            "description_width": ""
          }
        },
        "0072af8b95e14e2b9f5cdd62ce0702d3": {
          "model_module": "@jupyter-widgets/base",
          "model_name": "LayoutModel",
          "model_module_version": "1.2.0",
          "state": {
            "_model_module": "@jupyter-widgets/base",
            "_model_module_version": "1.2.0",
            "_model_name": "LayoutModel",
            "_view_count": null,
            "_view_module": "@jupyter-widgets/base",
            "_view_module_version": "1.2.0",
            "_view_name": "LayoutView",
            "align_content": null,
            "align_items": null,
            "align_self": null,
            "border": null,
            "bottom": null,
            "display": null,
            "flex": null,
            "flex_flow": null,
            "grid_area": null,
            "grid_auto_columns": null,
            "grid_auto_flow": null,
            "grid_auto_rows": null,
            "grid_column": null,
            "grid_gap": null,
            "grid_row": null,
            "grid_template_areas": null,
            "grid_template_columns": null,
            "grid_template_rows": null,
            "height": null,
            "justify_content": null,
            "justify_items": null,
            "left": null,
            "margin": null,
            "max_height": null,
            "max_width": null,
            "min_height": null,
            "min_width": null,
            "object_fit": null,
            "object_position": null,
            "order": null,
            "overflow": null,
            "overflow_x": null,
            "overflow_y": null,
            "padding": null,
            "right": null,
            "top": null,
            "visibility": null,
            "width": null
          }
        },
        "8b31d8e4f2344bb1bd42fede0ea645ef": {
          "model_module": "@jupyter-widgets/controls",
          "model_name": "DescriptionStyleModel",
          "model_module_version": "1.5.0",
          "state": {
            "_model_module": "@jupyter-widgets/controls",
            "_model_module_version": "1.5.0",
            "_model_name": "DescriptionStyleModel",
            "_view_count": null,
            "_view_module": "@jupyter-widgets/base",
            "_view_module_version": "1.2.0",
            "_view_name": "StyleView",
            "description_width": ""
          }
        },
        "e16348508c3840049dc26965486bbe8c": {
          "model_module": "@jupyter-widgets/controls",
          "model_name": "HBoxModel",
          "model_module_version": "1.5.0",
          "state": {
            "_dom_classes": [],
            "_model_module": "@jupyter-widgets/controls",
            "_model_module_version": "1.5.0",
            "_model_name": "HBoxModel",
            "_view_count": null,
            "_view_module": "@jupyter-widgets/controls",
            "_view_module_version": "1.5.0",
            "_view_name": "HBoxView",
            "box_style": "",
            "children": [
              "IPY_MODEL_ec002c2978c64f5ba98faaec6dddfced",
              "IPY_MODEL_309ca44a2924406991242a359d3b79d4",
              "IPY_MODEL_ba016944fd3844c3a078dc1fabd1c2ca"
            ],
            "layout": "IPY_MODEL_c2e6a150af194bbba68a401cb465bcea"
          }
        },
        "ec002c2978c64f5ba98faaec6dddfced": {
          "model_module": "@jupyter-widgets/controls",
          "model_name": "HTMLModel",
          "model_module_version": "1.5.0",
          "state": {
            "_dom_classes": [],
            "_model_module": "@jupyter-widgets/controls",
            "_model_module_version": "1.5.0",
            "_model_name": "HTMLModel",
            "_view_count": null,
            "_view_module": "@jupyter-widgets/controls",
            "_view_module_version": "1.5.0",
            "_view_name": "HTMLView",
            "description": "",
            "description_tooltip": null,
            "layout": "IPY_MODEL_bf9d8a76d6f24066a6dacd813c0cf174",
            "placeholder": "​",
            "style": "IPY_MODEL_b93be7bc4b2640eabb890a92242f1695",
            "value": " 33%"
          }
        },
        "309ca44a2924406991242a359d3b79d4": {
          "model_module": "@jupyter-widgets/controls",
          "model_name": "FloatProgressModel",
          "model_module_version": "1.5.0",
          "state": {
            "_dom_classes": [],
            "_model_module": "@jupyter-widgets/controls",
            "_model_module_version": "1.5.0",
            "_model_name": "FloatProgressModel",
            "_view_count": null,
            "_view_module": "@jupyter-widgets/controls",
            "_view_module_version": "1.5.0",
            "_view_name": "ProgressView",
            "bar_style": "danger",
            "description": "",
            "description_tooltip": null,
            "layout": "IPY_MODEL_5bf3a86dd0b146759ef441dd48ad720b",
            "max": 1000,
            "min": 0,
            "orientation": "horizontal",
            "style": "IPY_MODEL_108e30b19d1b4cbb9a49754d9be425f6",
            "value": 331
          }
        },
        "ba016944fd3844c3a078dc1fabd1c2ca": {
          "model_module": "@jupyter-widgets/controls",
          "model_name": "HTMLModel",
          "model_module_version": "1.5.0",
          "state": {
            "_dom_classes": [],
            "_model_module": "@jupyter-widgets/controls",
            "_model_module_version": "1.5.0",
            "_model_name": "HTMLModel",
            "_view_count": null,
            "_view_module": "@jupyter-widgets/controls",
            "_view_module_version": "1.5.0",
            "_view_name": "HTMLView",
            "description": "",
            "description_tooltip": null,
            "layout": "IPY_MODEL_cd82b93884fc477d9ad0fad166dc2bd4",
            "placeholder": "​",
            "style": "IPY_MODEL_8b72146c75f74464a1ab90021d0367a5",
            "value": " 331/1000 [00:04&lt;00:06, 101.38it/s]"
          }
        },
        "c2e6a150af194bbba68a401cb465bcea": {
          "model_module": "@jupyter-widgets/base",
          "model_name": "LayoutModel",
          "model_module_version": "1.2.0",
          "state": {
            "_model_module": "@jupyter-widgets/base",
            "_model_module_version": "1.2.0",
            "_model_name": "LayoutModel",
            "_view_count": null,
            "_view_module": "@jupyter-widgets/base",
            "_view_module_version": "1.2.0",
            "_view_name": "LayoutView",
            "align_content": null,
            "align_items": null,
            "align_self": null,
            "border": null,
            "bottom": null,
            "display": null,
            "flex": null,
            "flex_flow": null,
            "grid_area": null,
            "grid_auto_columns": null,
            "grid_auto_flow": null,
            "grid_auto_rows": null,
            "grid_column": null,
            "grid_gap": null,
            "grid_row": null,
            "grid_template_areas": null,
            "grid_template_columns": null,
            "grid_template_rows": null,
            "height": null,
            "justify_content": null,
            "justify_items": null,
            "left": null,
            "margin": null,
            "max_height": null,
            "max_width": null,
            "min_height": null,
            "min_width": null,
            "object_fit": null,
            "object_position": null,
            "order": null,
            "overflow": null,
            "overflow_x": null,
            "overflow_y": null,
            "padding": null,
            "right": null,
            "top": null,
            "visibility": null,
            "width": null
          }
        },
        "bf9d8a76d6f24066a6dacd813c0cf174": {
          "model_module": "@jupyter-widgets/base",
          "model_name": "LayoutModel",
          "model_module_version": "1.2.0",
          "state": {
            "_model_module": "@jupyter-widgets/base",
            "_model_module_version": "1.2.0",
            "_model_name": "LayoutModel",
            "_view_count": null,
            "_view_module": "@jupyter-widgets/base",
            "_view_module_version": "1.2.0",
            "_view_name": "LayoutView",
            "align_content": null,
            "align_items": null,
            "align_self": null,
            "border": null,
            "bottom": null,
            "display": null,
            "flex": null,
            "flex_flow": null,
            "grid_area": null,
            "grid_auto_columns": null,
            "grid_auto_flow": null,
            "grid_auto_rows": null,
            "grid_column": null,
            "grid_gap": null,
            "grid_row": null,
            "grid_template_areas": null,
            "grid_template_columns": null,
            "grid_template_rows": null,
            "height": null,
            "justify_content": null,
            "justify_items": null,
            "left": null,
            "margin": null,
            "max_height": null,
            "max_width": null,
            "min_height": null,
            "min_width": null,
            "object_fit": null,
            "object_position": null,
            "order": null,
            "overflow": null,
            "overflow_x": null,
            "overflow_y": null,
            "padding": null,
            "right": null,
            "top": null,
            "visibility": null,
            "width": null
          }
        },
        "b93be7bc4b2640eabb890a92242f1695": {
          "model_module": "@jupyter-widgets/controls",
          "model_name": "DescriptionStyleModel",
          "model_module_version": "1.5.0",
          "state": {
            "_model_module": "@jupyter-widgets/controls",
            "_model_module_version": "1.5.0",
            "_model_name": "DescriptionStyleModel",
            "_view_count": null,
            "_view_module": "@jupyter-widgets/base",
            "_view_module_version": "1.2.0",
            "_view_name": "StyleView",
            "description_width": ""
          }
        },
        "5bf3a86dd0b146759ef441dd48ad720b": {
          "model_module": "@jupyter-widgets/base",
          "model_name": "LayoutModel",
          "model_module_version": "1.2.0",
          "state": {
            "_model_module": "@jupyter-widgets/base",
            "_model_module_version": "1.2.0",
            "_model_name": "LayoutModel",
            "_view_count": null,
            "_view_module": "@jupyter-widgets/base",
            "_view_module_version": "1.2.0",
            "_view_name": "LayoutView",
            "align_content": null,
            "align_items": null,
            "align_self": null,
            "border": null,
            "bottom": null,
            "display": null,
            "flex": null,
            "flex_flow": null,
            "grid_area": null,
            "grid_auto_columns": null,
            "grid_auto_flow": null,
            "grid_auto_rows": null,
            "grid_column": null,
            "grid_gap": null,
            "grid_row": null,
            "grid_template_areas": null,
            "grid_template_columns": null,
            "grid_template_rows": null,
            "height": null,
            "justify_content": null,
            "justify_items": null,
            "left": null,
            "margin": null,
            "max_height": null,
            "max_width": null,
            "min_height": null,
            "min_width": null,
            "object_fit": null,
            "object_position": null,
            "order": null,
            "overflow": null,
            "overflow_x": null,
            "overflow_y": null,
            "padding": null,
            "right": null,
            "top": null,
            "visibility": null,
            "width": null
          }
        },
        "108e30b19d1b4cbb9a49754d9be425f6": {
          "model_module": "@jupyter-widgets/controls",
          "model_name": "ProgressStyleModel",
          "model_module_version": "1.5.0",
          "state": {
            "_model_module": "@jupyter-widgets/controls",
            "_model_module_version": "1.5.0",
            "_model_name": "ProgressStyleModel",
            "_view_count": null,
            "_view_module": "@jupyter-widgets/base",
            "_view_module_version": "1.2.0",
            "_view_name": "StyleView",
            "bar_color": null,
            "description_width": ""
          }
        },
        "cd82b93884fc477d9ad0fad166dc2bd4": {
          "model_module": "@jupyter-widgets/base",
          "model_name": "LayoutModel",
          "model_module_version": "1.2.0",
          "state": {
            "_model_module": "@jupyter-widgets/base",
            "_model_module_version": "1.2.0",
            "_model_name": "LayoutModel",
            "_view_count": null,
            "_view_module": "@jupyter-widgets/base",
            "_view_module_version": "1.2.0",
            "_view_name": "LayoutView",
            "align_content": null,
            "align_items": null,
            "align_self": null,
            "border": null,
            "bottom": null,
            "display": null,
            "flex": null,
            "flex_flow": null,
            "grid_area": null,
            "grid_auto_columns": null,
            "grid_auto_flow": null,
            "grid_auto_rows": null,
            "grid_column": null,
            "grid_gap": null,
            "grid_row": null,
            "grid_template_areas": null,
            "grid_template_columns": null,
            "grid_template_rows": null,
            "height": null,
            "justify_content": null,
            "justify_items": null,
            "left": null,
            "margin": null,
            "max_height": null,
            "max_width": null,
            "min_height": null,
            "min_width": null,
            "object_fit": null,
            "object_position": null,
            "order": null,
            "overflow": null,
            "overflow_x": null,
            "overflow_y": null,
            "padding": null,
            "right": null,
            "top": null,
            "visibility": null,
            "width": null
          }
        },
        "8b72146c75f74464a1ab90021d0367a5": {
          "model_module": "@jupyter-widgets/controls",
          "model_name": "DescriptionStyleModel",
          "model_module_version": "1.5.0",
          "state": {
            "_model_module": "@jupyter-widgets/controls",
            "_model_module_version": "1.5.0",
            "_model_name": "DescriptionStyleModel",
            "_view_count": null,
            "_view_module": "@jupyter-widgets/base",
            "_view_module_version": "1.2.0",
            "_view_name": "StyleView",
            "description_width": ""
          }
        }
      }
    }
  },
  "cells": [
    {
      "cell_type": "markdown",
      "metadata": {
        "id": "view-in-github",
        "colab_type": "text"
      },
      "source": [
        "<a href=\"https://colab.research.google.com/github/lokylam/example_work/blob/main/DeepMLP_From_Pupil_Activity_to_Neural_Spiking_PCs.ipynb\" target=\"_parent\"><img src=\"https://colab.research.google.com/assets/colab-badge.svg\" alt=\"Open In Colab\"/></a>"
      ]
    },
    {
      "cell_type": "code",
      "execution_count": 1,
      "metadata": {
        "id": "g7KlVGM2Iuu-"
      },
      "outputs": [],
      "source": [
        "# @title Essential Libraries\n",
        "from sklearn.decomposition import PCA\n",
        "from sklearn.decomposition import KernelPCA\n",
        "import pathlib\n",
        "import torch\n",
        "import numpy as np\n",
        "import torch.nn as nn\n",
        "import torch.nn.functional as F\n",
        "import torch.optim as optim\n",
        "import torchvision.transforms as transforms\n",
        "import pickle\n",
        "import seaborn as sns\n",
        "from copy import deepcopy\n",
        "from sklearn.model_selection import train_test_split\n",
        "from scipy.stats import zscore\n",
        "from sklearn.decomposition import PCA\n",
        "from matplotlib import pyplot as plt\n",
        "from torchvision.utils import make_grid\n",
        "from torchvision.datasets import ImageFolder\n",
        "from torch.utils.data import DataLoader, TensorDataset\n",
        "from tqdm.auto import tqdm\n",
        "from IPython.display import display\n",
        "from google.colab import drive"
      ]
    },
    {
      "cell_type": "code",
      "source": [
        "# Mount Google Drive to access files and directories\n",
        "drive.mount('/content/gdrive')\n",
        "folder_path = '/content/gdrive/My Drive/models_nma_project/'"
      ],
      "metadata": {
        "id": "zxagS5Vga6Ue",
        "colab": {
          "base_uri": "https://localhost:8080/"
        },
        "outputId": "e4bbf6e9-e97a-45d7-8f43-fbb587fbc74e"
      },
      "execution_count": 2,
      "outputs": [
        {
          "output_type": "stream",
          "name": "stdout",
          "text": [
            "Mounted at /content/gdrive\n"
          ]
        }
      ]
    },
    {
      "cell_type": "code",
      "source": [
        "# Check if a CUDA-compatible GPU is available; if not, use the CPU\n",
        "device = torch.device('cuda' if torch.cuda.is_available() else 'cpu')"
      ],
      "metadata": {
        "id": "OkjaU-KUa6_S"
      },
      "execution_count": 3,
      "outputs": []
    },
    {
      "cell_type": "code",
      "source": [
        "# @title Data retrieval\n",
        "import os, requests\n",
        "\n",
        "fname = []\n",
        "for j in range(3):\n",
        "  fname.append('steinmetz_part%d.npz'%j)\n",
        "url = [\"https://osf.io/agvxh/download\"]\n",
        "url.append(\"https://osf.io/uv3mw/download\")\n",
        "url.append(\"https://osf.io/ehmw2/download\")\n",
        "\n",
        "for j in range(len(url)):\n",
        "  if not os.path.isfile(fname[j]):\n",
        "    try:\n",
        "      r = requests.get(url[j])\n",
        "    except requests.ConnectionError:\n",
        "      print(\"!!! Failed to download data !!!\")\n",
        "    else:\n",
        "      if r.status_code != requests.codes.ok:\n",
        "        print(\"!!! Failed to download data !!!\")\n",
        "      else:\n",
        "        with open(fname[j], \"wb\") as fid:\n",
        "          fid.write(r.content)"
      ],
      "metadata": {
        "id": "Esmq7IJKJJGX"
      },
      "execution_count": 4,
      "outputs": []
    },
    {
      "cell_type": "code",
      "source": [
        "# @title Data loading\n",
        "alldat = np.array([])\n",
        "for j in range(len(fname)):\n",
        "  alldat = np.hstack((alldat,\n",
        "                      np.load('steinmetz_part%d.npz'%j,\n",
        "                              allow_pickle=True)['dat']))"
      ],
      "metadata": {
        "id": "QykjCk-_Jylo"
      },
      "execution_count": 5,
      "outputs": []
    },
    {
      "cell_type": "code",
      "source": [
        "data = alldat[12] # Select Neural activity from Session 13\n",
        "data['spks'].shape # Get the shape of the 'spks' attribute within the selected data: we have 983 neurons,300 trials and 250 time Points in this session\n"
      ],
      "metadata": {
        "colab": {
          "base_uri": "https://localhost:8080/"
        },
        "id": "bJFjjQKrKDh0",
        "outputId": "780e7844-85b9-4e97-9b82-ad00caa91504"
      },
      "execution_count": 6,
      "outputs": [
        {
          "output_type": "execute_result",
          "data": {
            "text/plain": [
              "(983, 300, 250)"
            ]
          },
          "metadata": {},
          "execution_count": 6
        }
      ]
    },
    {
      "cell_type": "code",
      "source": [
        "# @title Average Spike Data\n",
        "avg_spike = data['spks'].mean(axis = 2).T\n",
        "avg_spike.shape"
      ],
      "metadata": {
        "colab": {
          "base_uri": "https://localhost:8080/"
        },
        "id": "TMXflzerMT06",
        "outputId": "6600e2b2-493f-4547-83cd-2dd655150398"
      },
      "execution_count": 7,
      "outputs": [
        {
          "output_type": "execute_result",
          "data": {
            "text/plain": [
              "(300, 983)"
            ]
          },
          "metadata": {},
          "execution_count": 7
        }
      ]
    },
    {
      "cell_type": "code",
      "source": [
        "# @title Average Pupil Data\n",
        "avg_pupil = alldat[12]['pupil'].mean(axis=2).T\n",
        "avg_pupil.shape"
      ],
      "metadata": {
        "colab": {
          "base_uri": "https://localhost:8080/"
        },
        "id": "N1bBG94mbNx1",
        "outputId": "8007ad1d-22c2-472e-e1bd-54bdf1d7a36e"
      },
      "execution_count": 8,
      "outputs": [
        {
          "output_type": "execute_result",
          "data": {
            "text/plain": [
              "(300, 3)"
            ]
          },
          "metadata": {},
          "execution_count": 8
        }
      ]
    },
    {
      "cell_type": "code",
      "source": [
        "# @title Split Data into train, validatation and test sets\n",
        "y = avg_pupil.copy()\n",
        "x = avg_spike.copy()\n",
        "\n",
        "x_train, x_test, y_train, y_test = train_test_split(x, y, test_size = 0.2, random_state=2) # 80% train, 20% test\n",
        "x_train, x_val, y_train, y_val = train_test_split(x_train, y_train, test_size = 0.2, random_state = 4) # 80% train, 20% validation"
      ],
      "metadata": {
        "id": "bsIRXqLibdsx"
      },
      "execution_count": 9,
      "outputs": []
    },
    {
      "cell_type": "code",
      "source": [
        "# @title Applying PCA on Neural Data\n",
        "model_pca = PCA(n_components = 40)\n",
        "model_pca.fit(x_train)"
      ],
      "metadata": {
        "id": "FIqUJu5pL8S-",
        "colab": {
          "base_uri": "https://localhost:8080/",
          "height": 74
        },
        "outputId": "12224997-819c-495d-b9f6-d2f1be3b3882"
      },
      "execution_count": 10,
      "outputs": [
        {
          "output_type": "execute_result",
          "data": {
            "text/plain": [
              "PCA(n_components=40)"
            ],
            "text/html": [
              "<style>#sk-container-id-1 {color: black;background-color: white;}#sk-container-id-1 pre{padding: 0;}#sk-container-id-1 div.sk-toggleable {background-color: white;}#sk-container-id-1 label.sk-toggleable__label {cursor: pointer;display: block;width: 100%;margin-bottom: 0;padding: 0.3em;box-sizing: border-box;text-align: center;}#sk-container-id-1 label.sk-toggleable__label-arrow:before {content: \"▸\";float: left;margin-right: 0.25em;color: #696969;}#sk-container-id-1 label.sk-toggleable__label-arrow:hover:before {color: black;}#sk-container-id-1 div.sk-estimator:hover label.sk-toggleable__label-arrow:before {color: black;}#sk-container-id-1 div.sk-toggleable__content {max-height: 0;max-width: 0;overflow: hidden;text-align: left;background-color: #f0f8ff;}#sk-container-id-1 div.sk-toggleable__content pre {margin: 0.2em;color: black;border-radius: 0.25em;background-color: #f0f8ff;}#sk-container-id-1 input.sk-toggleable__control:checked~div.sk-toggleable__content {max-height: 200px;max-width: 100%;overflow: auto;}#sk-container-id-1 input.sk-toggleable__control:checked~label.sk-toggleable__label-arrow:before {content: \"▾\";}#sk-container-id-1 div.sk-estimator input.sk-toggleable__control:checked~label.sk-toggleable__label {background-color: #d4ebff;}#sk-container-id-1 div.sk-label input.sk-toggleable__control:checked~label.sk-toggleable__label {background-color: #d4ebff;}#sk-container-id-1 input.sk-hidden--visually {border: 0;clip: rect(1px 1px 1px 1px);clip: rect(1px, 1px, 1px, 1px);height: 1px;margin: -1px;overflow: hidden;padding: 0;position: absolute;width: 1px;}#sk-container-id-1 div.sk-estimator {font-family: monospace;background-color: #f0f8ff;border: 1px dotted black;border-radius: 0.25em;box-sizing: border-box;margin-bottom: 0.5em;}#sk-container-id-1 div.sk-estimator:hover {background-color: #d4ebff;}#sk-container-id-1 div.sk-parallel-item::after {content: \"\";width: 100%;border-bottom: 1px solid gray;flex-grow: 1;}#sk-container-id-1 div.sk-label:hover label.sk-toggleable__label {background-color: #d4ebff;}#sk-container-id-1 div.sk-serial::before {content: \"\";position: absolute;border-left: 1px solid gray;box-sizing: border-box;top: 0;bottom: 0;left: 50%;z-index: 0;}#sk-container-id-1 div.sk-serial {display: flex;flex-direction: column;align-items: center;background-color: white;padding-right: 0.2em;padding-left: 0.2em;position: relative;}#sk-container-id-1 div.sk-item {position: relative;z-index: 1;}#sk-container-id-1 div.sk-parallel {display: flex;align-items: stretch;justify-content: center;background-color: white;position: relative;}#sk-container-id-1 div.sk-item::before, #sk-container-id-1 div.sk-parallel-item::before {content: \"\";position: absolute;border-left: 1px solid gray;box-sizing: border-box;top: 0;bottom: 0;left: 50%;z-index: -1;}#sk-container-id-1 div.sk-parallel-item {display: flex;flex-direction: column;z-index: 1;position: relative;background-color: white;}#sk-container-id-1 div.sk-parallel-item:first-child::after {align-self: flex-end;width: 50%;}#sk-container-id-1 div.sk-parallel-item:last-child::after {align-self: flex-start;width: 50%;}#sk-container-id-1 div.sk-parallel-item:only-child::after {width: 0;}#sk-container-id-1 div.sk-dashed-wrapped {border: 1px dashed gray;margin: 0 0.4em 0.5em 0.4em;box-sizing: border-box;padding-bottom: 0.4em;background-color: white;}#sk-container-id-1 div.sk-label label {font-family: monospace;font-weight: bold;display: inline-block;line-height: 1.2em;}#sk-container-id-1 div.sk-label-container {text-align: center;}#sk-container-id-1 div.sk-container {/* jupyter's `normalize.less` sets `[hidden] { display: none; }` but bootstrap.min.css set `[hidden] { display: none !important; }` so we also need the `!important` here to be able to override the default hidden behavior on the sphinx rendered scikit-learn.org. See: https://github.com/scikit-learn/scikit-learn/issues/21755 */display: inline-block !important;position: relative;}#sk-container-id-1 div.sk-text-repr-fallback {display: none;}</style><div id=\"sk-container-id-1\" class=\"sk-top-container\"><div class=\"sk-text-repr-fallback\"><pre>PCA(n_components=40)</pre><b>In a Jupyter environment, please rerun this cell to show the HTML representation or trust the notebook. <br />On GitHub, the HTML representation is unable to render, please try loading this page with nbviewer.org.</b></div><div class=\"sk-container\" hidden><div class=\"sk-item\"><div class=\"sk-estimator sk-toggleable\"><input class=\"sk-toggleable__control sk-hidden--visually\" id=\"sk-estimator-id-1\" type=\"checkbox\" checked><label for=\"sk-estimator-id-1\" class=\"sk-toggleable__label sk-toggleable__label-arrow\">PCA</label><div class=\"sk-toggleable__content\"><pre>PCA(n_components=40)</pre></div></div></div></div></div>"
            ]
          },
          "metadata": {},
          "execution_count": 10
        }
      ]
    },
    {
      "cell_type": "code",
      "source": [
        "# @title Explained Variance in Each Component(%)\n",
        "variance_percentage = (model_pca.explained_variance_ratio_)*100\n",
        "print(f'Each Component Variance : {variance_percentage}')\n",
        "tot_var = variance_percentage.sum()\n",
        "print('')\n",
        "print(f'Total Explained Variance is:{tot_var}')"
      ],
      "metadata": {
        "id": "NCHjkJpwPDsG",
        "colab": {
          "base_uri": "https://localhost:8080/"
        },
        "outputId": "5f3b9f10-ede1-40bd-b874-9a56acef902a"
      },
      "execution_count": 11,
      "outputs": [
        {
          "output_type": "stream",
          "name": "stdout",
          "text": [
            "Each Component Variance : [21.10009089 12.60269134  8.29114939  4.88959217  4.59061212  3.54574288\n",
            "  2.96845251  2.47366609  2.14937328  1.98667533  1.85283695  1.58346848\n",
            "  1.43068087  1.30176125  1.24852565  1.16959297  1.10206323  1.02432517\n",
            "  0.92453651  0.88684166  0.79396232  0.77720798  0.72859026  0.65319798\n",
            "  0.64532164  0.59929944  0.55819802  0.52826328  0.51230688  0.47490472\n",
            "  0.4423031   0.42294908  0.40086432  0.38212153  0.37204461  0.35779257\n",
            "  0.34735553  0.33441948  0.32962951  0.32085458]\n",
            "\n",
            "Total Explained Variance is:87.10426555142175\n"
          ]
        }
      ]
    },
    {
      "cell_type": "code",
      "source": [
        "# @title PCA Components\n",
        "PCs = model_pca.transform(x_train)\n",
        "PCs.shape"
      ],
      "metadata": {
        "id": "li5tqv-PQOZQ",
        "colab": {
          "base_uri": "https://localhost:8080/"
        },
        "outputId": "42157030-83e3-4d47-a2cb-dd3807b10202"
      },
      "execution_count": 12,
      "outputs": [
        {
          "output_type": "execute_result",
          "data": {
            "text/plain": [
              "(192, 40)"
            ]
          },
          "metadata": {},
          "execution_count": 12
        }
      ]
    },
    {
      "cell_type": "code",
      "source": [
        "plt.scatter(PCs[:,0],PCs[:,1],cmap='RdBu')\n",
        "plt.xlabel(\"PC1 (var=%.2f)\" % variance_percentage[0])\n",
        "plt.ylabel('PC2 (var=%.2f)' % variance_percentage[1])\n",
        "plt.axis('equal')\n",
        "plt.tight_layout()"
      ],
      "metadata": {
        "id": "g17GoOTyROEy",
        "colab": {
          "base_uri": "https://localhost:8080/",
          "height": 521
        },
        "outputId": "24ff88ca-9515-41aa-dccd-3b29492233e8"
      },
      "execution_count": 13,
      "outputs": [
        {
          "output_type": "stream",
          "name": "stderr",
          "text": [
            "<ipython-input-13-916c76523b9b>:1: UserWarning: No data for colormapping provided via 'c'. Parameters 'cmap' will be ignored\n",
            "  plt.scatter(PCs[:,0],PCs[:,1],cmap='RdBu')\n"
          ]
        },
        {
          "output_type": "display_data",
          "data": {
            "text/plain": [
              "<Figure size 640x480 with 1 Axes>"
            ],
            "image/png": "[encoded data removed]"
          },
          "metadata": {}
        }
      ]
    },
    {
      "cell_type": "code",
      "source": [
        "# Uncomment if we are predicting neural PCs from pupil dynamics\n",
        "# y_train = model_pca.transform(y_train)\n",
        "# y_val = model_pca.transform(y_val)\n",
        "# y_test = model_pca.transform(y_test)\n",
        "\n",
        "# Uncomment if we are predicting pupil dynamics from neural PCs\n",
        "x_train = model_pca.transform(x_train)\n",
        "x_val = model_pca.transform(x_val)\n",
        "x_test = model_pca.transform(x_test)"
      ],
      "metadata": {
        "id": "fZLKcZ2UJ4o-"
      },
      "execution_count": 14,
      "outputs": []
    },
    {
      "cell_type": "code",
      "source": [
        "x_train = torch.Tensor(x_train)\n",
        "y_train = torch.Tensor(y_train)\n",
        "x_test = torch.Tensor(x_test)\n",
        "y_test = torch.Tensor(y_test)\n",
        "x_val = torch.Tensor(x_val)\n",
        "y_val = torch.Tensor(y_val)"
      ],
      "metadata": {
        "id": "pbF_BWRGLCRF"
      },
      "execution_count": 15,
      "outputs": []
    },
    {
      "cell_type": "code",
      "source": [
        "# @title Define MLP\n",
        "class MLP(nn.Module):\n",
        "  def __init__(self, input_dim, output_dim, hidden_dims, actv):\n",
        "\n",
        "    super(MLP, self).__init__()\n",
        "\n",
        "    self.mlp = nn.Sequential() # initializes an empty nn.Sequential() container, which will hold the layers of the MLP in a sequential manner.\n",
        "\n",
        "    if len(hidden_dims) > 0:\n",
        "      self.mlp.add_module('input layer', nn.Linear(input_dim, hidden_dims[0]))\n",
        "    else:\n",
        "      self.mlp.add_module('input layer', nn.Linear(input_dim, output_dim))\n",
        "\n",
        "    if len(hidden_dims) == 1:\n",
        "      self.mlp.add_module('actv 1', actv)\n",
        "      self.mlp.add_module('hidden layer 0', nn.Linear(hidden_dims[0], output_dim))\n",
        "    elif len(hidden_dims) > 1:\n",
        "      for i in range(1, len(hidden_dims)):\n",
        "        self.mlp.add_module('actv {}'.format(i), actv)\n",
        "        self.mlp.add_module('hidden layer {}'.format(i), nn.Linear(hidden_dims[i-1], hidden_dims[i]))\n",
        "      self.mlp.add_module('actv {}'.format(len(hidden_dims)), actv)\n",
        "      self.mlp.add_module('output layer', nn.Linear(hidden_dims[-1], output_dim))\n",
        "\n",
        "  def forward(self, x):\n",
        "\n",
        "    output = self.mlp(x)\n",
        "\n",
        "    return output\n"
      ],
      "metadata": {
        "id": "Y1MC7f8TLHMa"
      },
      "execution_count": 16,
      "outputs": []
    },
    {
      "cell_type": "code",
      "source": [
        "# Creat mini-batches for training\n",
        "train_dataset = TensorDataset(x_train, y_train)\n",
        "train_dataloader = DataLoader(train_dataset, batch_size = 64, shuffle = True)\n",
        "\n",
        "val_dataset = TensorDataset(x_val, y_val)\n",
        "val_dataloader = DataLoader(val_dataset, batch_size = 64, shuffle = True)\n",
        "\n",
        "test_dataset = TensorDataset(x_test, y_test)\n",
        "test_dataloader = DataLoader(test_dataset, batch_size = 64, shuffle = True)\n"
      ],
      "metadata": {
        "id": "eff_RacmLJds"
      },
      "execution_count": 17,
      "outputs": []
    },
    {
      "cell_type": "code",
      "source": [
        "# @title Check shapes of input and output\n",
        "\n",
        "batch = next(iter(train_dataloader))\n",
        "\n",
        "input, output = batch\n",
        "\n",
        "print(\"Input shape:\", input.shape)\n",
        "print(\"Output shape:\", output.shape)\n",
        "\n",
        "print(x_val.shape)\n",
        "print(y_val.shape)"
      ],
      "metadata": {
        "id": "0S1ojywyneUl",
        "colab": {
          "base_uri": "https://localhost:8080/"
        },
        "outputId": "01e3591b-39f0-43cd-9403-236fb4380808"
      },
      "execution_count": 18,
      "outputs": [
        {
          "output_type": "stream",
          "name": "stdout",
          "text": [
            "Input shape: torch.Size([64, 40])\n",
            "Output shape: torch.Size([64, 3])\n",
            "torch.Size([48, 40])\n",
            "torch.Size([48, 3])\n"
          ]
        }
      ]
    },
    {
      "cell_type": "code",
      "source": [
        "# @title Define training function\n",
        "def train(model, loss, optimizer):\n",
        "\n",
        "  current_loss = 0.0\n",
        "\n",
        "  model.train()\n",
        "\n",
        "  for input, output in train_dataloader:\n",
        "        # make sure datatypes of input and output are correct\n",
        "        input = input.float()\n",
        "        output = output.float()\n",
        "        optimizer.zero_grad()\n",
        "\n",
        "        prediction = model(input)\n",
        "        batch_loss = loss(prediction, output)\n",
        "\n",
        "        batch_loss.backward()\n",
        "\n",
        "        optimizer.step()\n",
        "\n",
        "        current_loss += batch_loss.detach().item()\n",
        "\n",
        "  return current_loss, model\n"
      ],
      "metadata": {
        "id": "K_VUDp6L-i2g"
      },
      "execution_count": 19,
      "outputs": []
    },
    {
      "cell_type": "code",
      "source": [
        "# @title Define test functions\n",
        "\n",
        "from sklearn.metrics import r2_score\n",
        "\n",
        "# Calculate loss between the model's predictions and actual target values\n",
        "def test(x, y, model, loss):\n",
        "\n",
        "    model.eval()\n",
        "\n",
        "    prediction = model(x)\n",
        "\n",
        "    val_loss = loss(prediction, y)\n",
        "\n",
        "    return val_loss.detach().item()\n",
        "\n",
        "# Calculate R2-score (goodness-of-fit between predicted and actual values)\n",
        "def test_r2(x, y, model, loss):\n",
        "\n",
        "    model.eval()\n",
        "\n",
        "    prediction = model(x)\n",
        "\n",
        "    return r2_score(prediction.detach().numpy().flatten(),y.detach().numpy().flatten())\n"
      ],
      "metadata": {
        "id": "hev-JDYr_2HX"
      },
      "execution_count": 20,
      "outputs": []
    },
    {
      "cell_type": "code",
      "source": [
        "# @title Define early stopping function\n",
        "def early_stopping(num_epochs, model, train_loader, val_loader, model_id = ''): # model_id default is empty\n",
        "\n",
        "\n",
        "  best_loss = np.inf\n",
        "  best_epoch = 0\n",
        "\n",
        "  # Number of successive epochs that you want to wait before stopping training process\n",
        "  patience = 50\n",
        "\n",
        "  # Keeps track of number of epochs during which the val_acc was less than best_acc\n",
        "  wait = 0\n",
        "\n",
        "  train_losses = []\n",
        "  val_losses = []\n",
        "\n",
        "  for num_epoch in tqdm(range(num_epochs)):\n",
        "\n",
        "    # Training loss\n",
        "    current_loss, model = train(model, loss, optimizer)\n",
        "    # print(current_loss)\n",
        "\n",
        "    # Validation loss\n",
        "    val_loss = test(x_val, y_val, model, loss)\n",
        "\n",
        "    if (val_loss < best_loss):\n",
        "      best_loss = val_loss\n",
        "      best_epoch = num_epoch\n",
        "\n",
        "      best_model = 'best deep MLP_2*32_StoP{}'.format(model_id)\n",
        "      checkpoint_file_path = folder_path + best_model\n",
        "      torch.save(model.state_dict(), checkpoint_file_path)\n",
        "\n",
        "      wait = 0\n",
        "    else:\n",
        "      wait += 1\n",
        "\n",
        "    if (wait > patience):\n",
        "      print(f'Early stopped on epoch: {num_epoch}')\n",
        "      break\n",
        "\n",
        "    train_losses.append(current_loss)\n",
        "    val_losses.append(val_loss)\n",
        "\n",
        "  return train_losses, val_losses, model, best_epoch, best_loss\n"
      ],
      "metadata": {
        "id": "tTRBQRa31LE-"
      },
      "execution_count": 21,
      "outputs": []
    },
    {
      "cell_type": "code",
      "source": [
        "# @title Train MLPs\n",
        "\n",
        "import pickle\n",
        "\n",
        "output = []\n",
        "\n",
        "# train the MLP with early stopping 5 times (to address the problem of getting stuck in local minima)\n",
        "for i in range(5):\n",
        "    model = MLP(40, 3, [8, 8, 8], nn.ReLU()) # Architecture can be varied to find the best model performance!\n",
        "    loss = nn.MSELoss()\n",
        "    optimizer = optim.Adam(model.parameters(), lr = 0.001, weight_decay = 0.001)\n",
        "\n",
        "    train_losses, val_losses, model, best_epoch, best_loss = early_stopping(1000, model, train_dataloader, val_dataloader, model_id =i)\n",
        "    print(f'Maximum Validation Accuracy is reached at epoch: {best_epoch:2d}')\n",
        "\n",
        "    # Visualise training and validation losses\n",
        "    plt.plot(train_losses,'r-', label = 'Train Losses')\n",
        "    plt.plot(val_losses,'b--', label = 'Validation Losses')\n",
        "    plt.legend()\n",
        "    plt.show()\n",
        "\n",
        "    output.append((train_losses, val_losses, model, best_epoch, best_loss))\n",
        "\n",
        "with open(folder_path+\"best deep MLP_3*8_NtoP\",\"wb\") as file:\n",
        "    pickle.dump(output, file)"
      ],
      "metadata": {
        "id": "NRXJbLETk2-_",
        "colab": {
          "base_uri": "https://localhost:8080/",
          "height": 1000,
          "referenced_widgets": [
            "ce646d47efbc4154af8fdf1836d3daa7",
            "68fed4373ecd46a88137440df7a69613",
            "ce9b5551bf76475997d08d6fe47d7c44",
            "0fa0d11f68d64301a813c1981048c6d1",
            "268bdb741be041b8830e40593ae69439",
            "ee2fb1983ee74a3c9d4d83a34546afe9",
            "1529d2f098804f25a45dc1e985cc533f",
            "6b4bd4dc9116499b9ec8fd61310395e0",
            "998ee874aba946ca8c6af0254206d422",
            "054d714edc7b40ef9a9514aa40e9c37f",
            "d370eb58d7314fe9969d71c3453add0c",
            "659eb4d7cd1446efb9b9d3bd8562a75e",
            "c94f2f9cb358481a90996c644dc4035c",
            "b917945f05f145a0a9f96b3c31070668",
            "00189612d0ab407a88e3ff90a0703193",
            "35b6dcd08f214883a510ce87b7e0f5e3",
            "505d167130814403b92e0666de63f140",
            "f7358ee98e804c44939df30265034428",
            "bc522676c78a43b7ad6680520acee6bf",
            "876ad90254b440b18e999de4868ca1f1",
            "67bb15d44833450893184d0d9cdc7a15",
            "7afd538c82a3456686a1724b6b283662",
            "be0f79b74b02436fab539001151acf4e",
            "a0eba27008604ee3ba12498bd62e87f2",
            "d7a84a5c3d744cfeacf8064e33cd443f",
            "82404a4feaf94f4f8349a735329e606b",
            "3d55ee079d6e4a3da5eb10d53cbb402e",
            "f4ae4ff502f1417592d6aba2f0db1b94",
            "044efe908fed4695a91ac9024d6594da",
            "d6e4ae75be544b74a371d62f5c0c2842",
            "17ea0451d04a4fd49781e043fb56ebd8",
            "a5694499f68446aa969e7bf7da9bdfcd",
            "bfc082d18698430bb5ee19772d70afe2",
            "fdd9ef024f3f46318a6ea1ea4dcafeb9",
            "900c44302170412495b8340ebc4b2e4c",
            "45997a75a47740839711d34102944583",
            "c15bb7b31a834cfc9b103bd46278a21a",
            "c9ffc82a62ad4b85be59576b400dbc4d",
            "791903a7f7034bb5ab81d720d8478ce2",
            "2e067e9ac16a4f688669aaf65880336e",
            "bb9cd2c9f190408a8babbf17ccff17e5",
            "e4364eb4df86416b88107d3b4166ce57",
            "0072af8b95e14e2b9f5cdd62ce0702d3",
            "8b31d8e4f2344bb1bd42fede0ea645ef",
            "e16348508c3840049dc26965486bbe8c",
            "ec002c2978c64f5ba98faaec6dddfced",
            "309ca44a2924406991242a359d3b79d4",
            "ba016944fd3844c3a078dc1fabd1c2ca",
            "c2e6a150af194bbba68a401cb465bcea",
            "bf9d8a76d6f24066a6dacd813c0cf174",
            "b93be7bc4b2640eabb890a92242f1695",
            "5bf3a86dd0b146759ef441dd48ad720b",
            "108e30b19d1b4cbb9a49754d9be425f6",
            "cd82b93884fc477d9ad0fad166dc2bd4",
            "8b72146c75f74464a1ab90021d0367a5"
          ]
        },
        "outputId": "0186ce83-06f0-49c1-bcc1-36abe27c46a4"
      },
      "execution_count": 22,
      "outputs": [
        {
          "output_type": "display_data",
          "data": {
            "text/plain": [
              "  0%|          | 0/1000 [00:00<?, ?it/s]"
            ],
            "application/vnd.jupyter.widget-view+json": {
              "version_major": 2,
              "version_minor": 0,
              "model_id": "ce646d47efbc4154af8fdf1836d3daa7"
            }
          },
          "metadata": {}
        },
        {
          "output_type": "stream",
          "name": "stdout",
          "text": [
            "Early stopped on epoch: 348\n",
            "Maximum Validation Accuracy is reached at epoch: 297\n"
          ]
        },
        {
          "output_type": "display_data",
          "data": {
            "text/plain": [
              "<Figure size 640x480 with 1 Axes>"
            ],
            "image/png": "[encoded data removed]"
          },
          "metadata": {}
        },
        {
          "output_type": "display_data",
          "data": {
            "text/plain": [
              "  0%|          | 0/1000 [00:00<?, ?it/s]"
            ],
            "application/vnd.jupyter.widget-view+json": {
              "version_major": 2,
              "version_minor": 0,
              "model_id": "659eb4d7cd1446efb9b9d3bd8562a75e"
            }
          },
          "metadata": {}
        },
        {
          "output_type": "stream",
          "name": "stdout",
          "text": [
            "Early stopped on epoch: 345\n",
            "Maximum Validation Accuracy is reached at epoch: 294\n"
          ]
        },
        {
          "output_type": "display_data",
          "data": {
            "text/plain": [
              "<Figure size 640x480 with 1 Axes>"
            ],
            "image/png": "[encoded data removed]"
          },
          "metadata": {}
        },
        {
          "output_type": "display_data",
          "data": {
            "text/plain": [
              "  0%|          | 0/1000 [00:00<?, ?it/s]"
            ],
            "application/vnd.jupyter.widget-view+json": {
              "version_major": 2,
              "version_minor": 0,
              "model_id": "be0f79b74b02436fab539001151acf4e"
            }
          },
          "metadata": {}
        },
        {
          "output_type": "stream",
          "name": "stdout",
          "text": [
            "Early stopped on epoch: 330\n",
            "Maximum Validation Accuracy is reached at epoch: 279\n"
          ]
        },
        {
          "output_type": "display_data",
          "data": {
            "text/plain": [
              "<Figure size 640x480 with 1 Axes>"
            ],
            "image/png": "[encoded data removed]"
          },
          "metadata": {}
        },
        {
          "output_type": "display_data",
          "data": {
            "text/plain": [
              "  0%|          | 0/1000 [00:00<?, ?it/s]"
            ],
            "application/vnd.jupyter.widget-view+json": {
              "version_major": 2,
              "version_minor": 0,
              "model_id": "fdd9ef024f3f46318a6ea1ea4dcafeb9"
            }
          },
          "metadata": {}
        },
        {
          "output_type": "stream",
          "name": "stdout",
          "text": [
            "Early stopped on epoch: 182\n",
            "Maximum Validation Accuracy is reached at epoch: 131\n"
          ]
        },
        {
          "output_type": "display_data",
          "data": {
            "text/plain": [
              "<Figure size 640x480 with 1 Axes>"
            ],
            "image/png": "[encoded data removed]"
          },
          "metadata": {}
        },
        {
          "output_type": "display_data",
          "data": {
            "text/plain": [
              "  0%|          | 0/1000 [00:00<?, ?it/s]"
            ],
            "application/vnd.jupyter.widget-view+json": {
              "version_major": 2,
              "version_minor": 0,
              "model_id": "e16348508c3840049dc26965486bbe8c"
            }
          },
          "metadata": {}
        },
        {
          "output_type": "stream",
          "name": "stdout",
          "text": [
            "Early stopped on epoch: 331\n",
            "Maximum Validation Accuracy is reached at epoch: 280\n"
          ]
        },
        {
          "output_type": "display_data",
          "data": {
            "text/plain": [
              "<Figure size 640x480 with 1 Axes>"
            ],
            "image/png": "[encoded data removed]"
          },
          "metadata": {}
        }
      ]
    },
    {
      "cell_type": "code",
      "source": [
        "# @title Plot training and validation loss curves\n",
        "with open(folder_path+\"best deep MLP_3*8_NtoP\", 'rb') as file:\n",
        "    output = pickle.load(file)\n",
        "\n",
        "for i in range(5):\n",
        "    plt.plot(output[i][0], 'k-', alpha = 0.5)\n",
        "    plt.plot(output[i][1], 'r--', alpha = 0.5)\n",
        "\n",
        "plt.title('Neural PCs to Pupil: MLP with 3 layers of 8 hidden units')\n",
        "plt.legend(['Train Loss', 'Validation Loss'])\n",
        "plt.show()"
      ],
      "metadata": {
        "id": "CXQI1VLYp4O-",
        "colab": {
          "base_uri": "https://localhost:8080/",
          "height": 452
        },
        "outputId": "834a838d-032a-4285-8a71-696e64af664e"
      },
      "execution_count": 23,
      "outputs": [
        {
          "output_type": "display_data",
          "data": {
            "text/plain": [
              "<Figure size 640x480 with 1 Axes>"
            ],
            "image/png": "[encoded data removed]"
          },
          "metadata": {}
        }
      ]
    },
    {
      "cell_type": "code",
      "source": [
        "# @title Get test MSE losses, R2 from all NEURAL PCS -> PUPIL models\n",
        "\n",
        "file_name = ['best deep MLP_1*8_NtoP',\n",
        "             'best deep MLP_2*8_NtoP',\n",
        "             'best deep MLP_3*8_NtoP',\n",
        "             'best deep MLP_1*128_NtoP',\n",
        "             'best deep MLP_2*128_NtoP',\n",
        "             'best deep MLP_3*128_NtoP',\n",
        "             'best deep MLP_1*256_NtoP']\n",
        "\n",
        "NtoP_models = []\n",
        "\n",
        "for i in range(len(file_name)):\n",
        "\n",
        "  path = folder_path + file_name[i]\n",
        "\n",
        "  train_losses = []\n",
        "  test_losses_MSE = []\n",
        "  test_losses_R2 = []\n",
        "\n",
        "  with open(path, 'rb') as file:\n",
        "      output = pickle.load(file)\n",
        "\n",
        "  for j in range(5):\n",
        "\n",
        "      train_loss = output[j][-1]\n",
        "      model = output[j][2]\n",
        "\n",
        "      loss = nn.MSELoss()\n",
        "\n",
        "      test_loss_MSE = test(x_test, y_test, model, loss)\n",
        "      test_loss_R2 = test_r2(x_test, y_test, model, loss)\n",
        "\n",
        "      train_losses.append(train_loss)\n",
        "      test_losses_MSE.append(test_loss_MSE)\n",
        "      test_losses_R2.append(test_loss_R2)\n",
        "\n",
        "  loss_summary = {\n",
        "        'file_name': file_name[i],\n",
        "        'train_losses': train_losses,\n",
        "        'test_losses_MSE': test_losses_MSE,\n",
        "        'test_losses_R2': test_losses_R2\n",
        "  }\n",
        "\n",
        "  NtoP_models.append(loss_summary)\n",
        "\n",
        "file_name = 'NtoP_models'\n",
        "path = folder_path + file_name\n",
        "\n",
        "with open(path, 'wb') as file:\n",
        "  pickle.dump(NtoP_models, file)"
      ],
      "metadata": {
        "id": "W_N_AY5spk4X"
      },
      "execution_count": 24,
      "outputs": []
    },
    {
      "cell_type": "code",
      "source": [
        "# @title Boxplot for MSE losses (Neural PCs to pupil)\n",
        "with open(folder_path+\"NtoP_models\", 'rb') as file:\n",
        "    output = pickle.load(file)\n",
        "\n",
        "file_names_list = [model['file_name'] for model in output]\n",
        "train_losses_list = [model['train_losses'] for model in output]\n",
        "test_losses_list = [model['test_losses_MSE'] for model in output]\n",
        "test_losses_R2_list = [model['test_losses_R2'] for model in output]\n",
        "\n",
        "fig,ax = plt.subplots(1,1,figsize=(3,5))\n",
        "\n",
        "for i in range(len(output)):\n",
        "    c = plt.cm.Greys(0.50)\n",
        "    ax.boxplot([train_losses_list[i]],positions=[i],labels=[\"_\".join(file_names_list[i].split('_')[1:])],\n",
        "                notch=False, patch_artist=True,\n",
        "                boxprops=dict(facecolor=c, color=c),\n",
        "                capprops=dict(color=c),\n",
        "                whiskerprops=dict(color=c),\n",
        "                flierprops=dict(color=c, markeredgecolor=c),\n",
        "                medianprops=dict(color=c))\n",
        "    c = plt.cm.Greys(0.75)\n",
        "    ax.boxplot([test_losses_list[i]],positions=[i+0.5],labels=[\"_\".join(file_names_list[i].split('_')[1:])],\n",
        "               notch=False, patch_artist=True,\n",
        "                boxprops=dict(facecolor=c, color=c),\n",
        "                capprops=dict(color=c),\n",
        "                whiskerprops=dict(color=c),\n",
        "                flierprops=dict(color=c, markeredgecolor=c),\n",
        "                medianprops=dict(color=c),)\n",
        "\n",
        "ax.set_xticks(ax.get_xticks(),ax.get_xticklabels(),rotation=90)\n",
        "\n",
        "import matplotlib.patches as mpatches\n",
        "\n",
        "train_patch = mpatches.Patch(color=plt.cm.Greys(0.50), label='Train')\n",
        "test_patch = mpatches.Patch(color=plt.cm.Greys(0.75), label='Test')\n",
        "plt.legend(handles=[train_patch,test_patch], frameon=False)\n",
        "\n",
        "plt.title('Performance (MSE) of MLP Models (Neural PCs to Pupil)')\n",
        "\n",
        "# Add y-axis label\n",
        "plt.ylabel('Loss')\n",
        "\n",
        "# Show the plot\n",
        "plt.show()"
      ],
      "metadata": {
        "id": "IRhAHLvdZGKR",
        "colab": {
          "base_uri": "https://localhost:8080/",
          "height": 536
        },
        "outputId": "c2d83378-216a-4a63-b9ed-98f1c7bb75c8"
      },
      "execution_count": 25,
      "outputs": [
        {
          "output_type": "display_data",
          "data": {
            "text/plain": [
              "<Figure size 300x500 with 1 Axes>"
            ],
            "image/png": "[encoded data removed]"
          },
          "metadata": {}
        }
      ]
    },
    {
      "cell_type": "code",
      "source": [
        "# @title Boxplot for R2 (Neural PCs to pupil)\n",
        "with open(folder_path+\"NtoP_models\", 'rb') as file:\n",
        "    output = pickle.load(file)\n",
        "\n",
        "file_names_list = [model['file_name'] for model in output]\n",
        "train_losses_list = [model['train_losses'] for model in output]\n",
        "test_losses_list = [model['test_losses_MSE'] for model in output]\n",
        "test_losses_R2_list = [model['test_losses_R2'] for model in output]\n",
        "\n",
        "fig,ax = plt.subplots(1,1,figsize=(3,5))\n",
        "\n",
        "for i in range(len(output)):\n",
        "    c = plt.cm.Greys(0.50)\n",
        "    ax.boxplot([train_losses_list[i]],positions=[i],labels=[\"_\".join(file_names_list[i].split('_')[1:])],\n",
        "                notch=False, patch_artist=True,\n",
        "                boxprops=dict(facecolor=c, color=c),\n",
        "                capprops=dict(color=c),\n",
        "                whiskerprops=dict(color=c),\n",
        "                flierprops=dict(color=c, markeredgecolor=c),\n",
        "                medianprops=dict(color=c))\n",
        "    c = plt.cm.Greys(0.75)\n",
        "    ax.boxplot([test_losses_R2_list[i]],positions=[i+0.5],labels=[\"_\".join(file_names_list[i].split('_')[1:])],\n",
        "               notch=False, patch_artist=True,\n",
        "                boxprops=dict(facecolor=c, color=c),\n",
        "                capprops=dict(color=c),\n",
        "                whiskerprops=dict(color=c),\n",
        "                flierprops=dict(color=c, markeredgecolor=c),\n",
        "                medianprops=dict(color=c),)\n",
        "\n",
        "ax.set_xticks(ax.get_xticks(),ax.get_xticklabels(),rotation=90)\n",
        "\n",
        "import matplotlib.patches as mpatches\n",
        "\n",
        "train_patch = mpatches.Patch(color=plt.cm.Greys(0.50), label='Train')\n",
        "test_patch = mpatches.Patch(color=plt.cm.Greys(0.75), label='Test')\n",
        "plt.legend(handles=[train_patch,test_patch], frameon=False)\n",
        "\n",
        "plt.title('Performance (R2) of MLP Models (Neural PCs to Pupil)')\n",
        "\n",
        "# Add y-axis label\n",
        "plt.ylabel('R2')\n",
        "\n",
        "# Show the plot\n",
        "plt.show()"
      ],
      "metadata": {
        "id": "M2bjNrb-ZrHo",
        "colab": {
          "base_uri": "https://localhost:8080/",
          "height": 536
        },
        "outputId": "a039a34d-8098-4af5-a449-52611e76365f"
      },
      "execution_count": 26,
      "outputs": [
        {
          "output_type": "display_data",
          "data": {
            "text/plain": [
              "<Figure size 300x500 with 1 Axes>"
            ],
            "image/png": "[encoded data removed]"
          },
          "metadata": {}
        }
      ]
    },
    {
      "cell_type": "code",
      "source": [
        "# @title Get test MSE losses, R2 from all PUPIL -> NEURAL PCS models\n",
        "file_name = ['best deep MLP_1*40_PtoN',\n",
        "             'best deep MLP_4*40_PtoN',\n",
        "             'best deep MLP_10*100_PtoN']\n",
        "\n",
        "PtoN_models = []\n",
        "\n",
        "for i in range(len(file_name)):\n",
        "\n",
        "  path = folder_path + file_name[i]\n",
        "\n",
        "  train_losses = []\n",
        "  test_losses_MSE = []\n",
        "  test_losses_R2 = []\n",
        "\n",
        "  with open(path, 'rb') as file:\n",
        "      output = pickle.load(file)\n",
        "\n",
        "  for j in range(5):\n",
        "\n",
        "      train_loss = output[j][-1]\n",
        "      model = output[j][2]\n",
        "\n",
        "      loss = nn.MSELoss()\n",
        "\n",
        "      test_loss_MSE = test(x_test, y_test, model, loss)\n",
        "      test_loss_R2 = test_r2(x_test, y_test, model, loss)\n",
        "\n",
        "      train_losses.append(train_loss)\n",
        "      test_losses_MSE.append(test_loss_MSE)\n",
        "      test_losses_R2.append(test_loss_R2)\n",
        "\n",
        "  loss_summary = {\n",
        "        'file_name': file_name[i],\n",
        "        'train_losses': train_losses,\n",
        "        'test_losses_MSE': test_losses_MSE,\n",
        "        'test_losses_R2': test_losses_R2\n",
        "  }\n",
        "\n",
        "  PtoN_models.append(loss_summary)\n",
        "\n",
        "file_name = 'PtoN_models'\n",
        "path = folder_path + file_name\n",
        "\n",
        "with open(path, 'wb') as file:\n",
        "  pickle.dump(PtoN_models, file)"
      ],
      "metadata": {
        "id": "tqUXxBT_U7Qs",
        "colab": {
          "base_uri": "https://localhost:8080/",
          "height": 385
        },
        "outputId": "2d0824fe-ba10-4687-8eab-f50d9f6ff521"
      },
      "execution_count": 27,
      "outputs": [
        {
          "output_type": "error",
          "ename": "RuntimeError",
          "evalue": "ignored",
          "traceback": [
            "\u001b[0;31m---------------------------------------------------------------------------\u001b[0m",
            "\u001b[0;31mRuntimeError\u001b[0m                              Traceback (most recent call last)",
            "\u001b[0;32m<ipython-input-27-2ec5c5c0bc43>\u001b[0m in \u001b[0;36m<cell line: 8>\u001b[0;34m()\u001b[0m\n\u001b[1;32m     24\u001b[0m       \u001b[0mloss\u001b[0m \u001b[0;34m=\u001b[0m \u001b[0mnn\u001b[0m\u001b[0;34m.\u001b[0m\u001b[0mMSELoss\u001b[0m\u001b[0;34m(\u001b[0m\u001b[0;34m)\u001b[0m\u001b[0;34m\u001b[0m\u001b[0;34m\u001b[0m\u001b[0m\n\u001b[1;32m     25\u001b[0m \u001b[0;34m\u001b[0m\u001b[0m\n\u001b[0;32m---> 26\u001b[0;31m       \u001b[0mtest_loss_MSE\u001b[0m \u001b[0;34m=\u001b[0m \u001b[0mtest\u001b[0m\u001b[0;34m(\u001b[0m\u001b[0mx_test\u001b[0m\u001b[0;34m,\u001b[0m \u001b[0my_test\u001b[0m\u001b[0;34m,\u001b[0m \u001b[0mmodel\u001b[0m\u001b[0;34m,\u001b[0m \u001b[0mloss\u001b[0m\u001b[0;34m)\u001b[0m\u001b[0;34m\u001b[0m\u001b[0;34m\u001b[0m\u001b[0m\n\u001b[0m\u001b[1;32m     27\u001b[0m       \u001b[0mtest_loss_R2\u001b[0m \u001b[0;34m=\u001b[0m \u001b[0mtest_r2\u001b[0m\u001b[0;34m(\u001b[0m\u001b[0mx_test\u001b[0m\u001b[0;34m,\u001b[0m \u001b[0my_test\u001b[0m\u001b[0;34m,\u001b[0m \u001b[0mmodel\u001b[0m\u001b[0;34m,\u001b[0m \u001b[0mloss\u001b[0m\u001b[0;34m)\u001b[0m\u001b[0;34m\u001b[0m\u001b[0;34m\u001b[0m\u001b[0m\n\u001b[1;32m     28\u001b[0m \u001b[0;34m\u001b[0m\u001b[0m\n",
            "\u001b[0;32m<ipython-input-20-ee3fb2325b96>\u001b[0m in \u001b[0;36mtest\u001b[0;34m(x, y, model, loss)\u001b[0m\n\u001b[1;32m      8\u001b[0m     \u001b[0mmodel\u001b[0m\u001b[0;34m.\u001b[0m\u001b[0meval\u001b[0m\u001b[0;34m(\u001b[0m\u001b[0;34m)\u001b[0m\u001b[0;34m\u001b[0m\u001b[0;34m\u001b[0m\u001b[0m\n\u001b[1;32m      9\u001b[0m \u001b[0;34m\u001b[0m\u001b[0m\n\u001b[0;32m---> 10\u001b[0;31m     \u001b[0mprediction\u001b[0m \u001b[0;34m=\u001b[0m \u001b[0mmodel\u001b[0m\u001b[0;34m(\u001b[0m\u001b[0mx\u001b[0m\u001b[0;34m)\u001b[0m\u001b[0;34m\u001b[0m\u001b[0;34m\u001b[0m\u001b[0m\n\u001b[0m\u001b[1;32m     11\u001b[0m \u001b[0;34m\u001b[0m\u001b[0m\n\u001b[1;32m     12\u001b[0m     \u001b[0mval_loss\u001b[0m \u001b[0;34m=\u001b[0m \u001b[0mloss\u001b[0m\u001b[0;34m(\u001b[0m\u001b[0mprediction\u001b[0m\u001b[0;34m,\u001b[0m \u001b[0my\u001b[0m\u001b[0;34m)\u001b[0m\u001b[0;34m\u001b[0m\u001b[0;34m\u001b[0m\u001b[0m\n",
            "\u001b[0;32m/usr/local/lib/python3.10/dist-packages/torch/nn/modules/module.py\u001b[0m in \u001b[0;36m_call_impl\u001b[0;34m(self, *args, **kwargs)\u001b[0m\n\u001b[1;32m   1499\u001b[0m                 \u001b[0;32mor\u001b[0m \u001b[0m_global_backward_pre_hooks\u001b[0m \u001b[0;32mor\u001b[0m \u001b[0m_global_backward_hooks\u001b[0m\u001b[0;34m\u001b[0m\u001b[0;34m\u001b[0m\u001b[0m\n\u001b[1;32m   1500\u001b[0m                 or _global_forward_hooks or _global_forward_pre_hooks):\n\u001b[0;32m-> 1501\u001b[0;31m             \u001b[0;32mreturn\u001b[0m \u001b[0mforward_call\u001b[0m\u001b[0;34m(\u001b[0m\u001b[0;34m*\u001b[0m\u001b[0margs\u001b[0m\u001b[0;34m,\u001b[0m \u001b[0;34m**\u001b[0m\u001b[0mkwargs\u001b[0m\u001b[0;34m)\u001b[0m\u001b[0;34m\u001b[0m\u001b[0;34m\u001b[0m\u001b[0m\n\u001b[0m\u001b[1;32m   1502\u001b[0m         \u001b[0;31m# Do not call functions when jit is used\u001b[0m\u001b[0;34m\u001b[0m\u001b[0;34m\u001b[0m\u001b[0m\n\u001b[1;32m   1503\u001b[0m         \u001b[0mfull_backward_hooks\u001b[0m\u001b[0;34m,\u001b[0m \u001b[0mnon_full_backward_hooks\u001b[0m \u001b[0;34m=\u001b[0m \u001b[0;34m[\u001b[0m\u001b[0;34m]\u001b[0m\u001b[0;34m,\u001b[0m \u001b[0;34m[\u001b[0m\u001b[0;34m]\u001b[0m\u001b[0;34m\u001b[0m\u001b[0;34m\u001b[0m\u001b[0m\n",
            "\u001b[0;32m<ipython-input-16-e7a7828eb576>\u001b[0m in \u001b[0;36mforward\u001b[0;34m(self, x)\u001b[0m\n\u001b[1;32m     24\u001b[0m   \u001b[0;32mdef\u001b[0m \u001b[0mforward\u001b[0m\u001b[0;34m(\u001b[0m\u001b[0mself\u001b[0m\u001b[0;34m,\u001b[0m \u001b[0mx\u001b[0m\u001b[0;34m)\u001b[0m\u001b[0;34m:\u001b[0m\u001b[0;34m\u001b[0m\u001b[0;34m\u001b[0m\u001b[0m\n\u001b[1;32m     25\u001b[0m \u001b[0;34m\u001b[0m\u001b[0m\n\u001b[0;32m---> 26\u001b[0;31m     \u001b[0moutput\u001b[0m \u001b[0;34m=\u001b[0m \u001b[0mself\u001b[0m\u001b[0;34m.\u001b[0m\u001b[0mmlp\u001b[0m\u001b[0;34m(\u001b[0m\u001b[0mx\u001b[0m\u001b[0;34m)\u001b[0m\u001b[0;34m\u001b[0m\u001b[0;34m\u001b[0m\u001b[0m\n\u001b[0m\u001b[1;32m     27\u001b[0m \u001b[0;34m\u001b[0m\u001b[0m\n\u001b[1;32m     28\u001b[0m     \u001b[0;32mreturn\u001b[0m \u001b[0moutput\u001b[0m\u001b[0;34m\u001b[0m\u001b[0;34m\u001b[0m\u001b[0m\n",
            "\u001b[0;32m/usr/local/lib/python3.10/dist-packages/torch/nn/modules/module.py\u001b[0m in \u001b[0;36m_call_impl\u001b[0;34m(self, *args, **kwargs)\u001b[0m\n\u001b[1;32m   1499\u001b[0m                 \u001b[0;32mor\u001b[0m \u001b[0m_global_backward_pre_hooks\u001b[0m \u001b[0;32mor\u001b[0m \u001b[0m_global_backward_hooks\u001b[0m\u001b[0;34m\u001b[0m\u001b[0;34m\u001b[0m\u001b[0m\n\u001b[1;32m   1500\u001b[0m                 or _global_forward_hooks or _global_forward_pre_hooks):\n\u001b[0;32m-> 1501\u001b[0;31m             \u001b[0;32mreturn\u001b[0m \u001b[0mforward_call\u001b[0m\u001b[0;34m(\u001b[0m\u001b[0;34m*\u001b[0m\u001b[0margs\u001b[0m\u001b[0;34m,\u001b[0m \u001b[0;34m**\u001b[0m\u001b[0mkwargs\u001b[0m\u001b[0;34m)\u001b[0m\u001b[0;34m\u001b[0m\u001b[0;34m\u001b[0m\u001b[0m\n\u001b[0m\u001b[1;32m   1502\u001b[0m         \u001b[0;31m# Do not call functions when jit is used\u001b[0m\u001b[0;34m\u001b[0m\u001b[0;34m\u001b[0m\u001b[0m\n\u001b[1;32m   1503\u001b[0m         \u001b[0mfull_backward_hooks\u001b[0m\u001b[0;34m,\u001b[0m \u001b[0mnon_full_backward_hooks\u001b[0m \u001b[0;34m=\u001b[0m \u001b[0;34m[\u001b[0m\u001b[0;34m]\u001b[0m\u001b[0;34m,\u001b[0m \u001b[0;34m[\u001b[0m\u001b[0;34m]\u001b[0m\u001b[0;34m\u001b[0m\u001b[0;34m\u001b[0m\u001b[0m\n",
            "\u001b[0;32m/usr/local/lib/python3.10/dist-packages/torch/nn/modules/container.py\u001b[0m in \u001b[0;36mforward\u001b[0;34m(self, input)\u001b[0m\n\u001b[1;32m    215\u001b[0m     \u001b[0;32mdef\u001b[0m \u001b[0mforward\u001b[0m\u001b[0;34m(\u001b[0m\u001b[0mself\u001b[0m\u001b[0;34m,\u001b[0m \u001b[0minput\u001b[0m\u001b[0;34m)\u001b[0m\u001b[0;34m:\u001b[0m\u001b[0;34m\u001b[0m\u001b[0;34m\u001b[0m\u001b[0m\n\u001b[1;32m    216\u001b[0m         \u001b[0;32mfor\u001b[0m \u001b[0mmodule\u001b[0m \u001b[0;32min\u001b[0m \u001b[0mself\u001b[0m\u001b[0;34m:\u001b[0m\u001b[0;34m\u001b[0m\u001b[0;34m\u001b[0m\u001b[0m\n\u001b[0;32m--> 217\u001b[0;31m             \u001b[0minput\u001b[0m \u001b[0;34m=\u001b[0m \u001b[0mmodule\u001b[0m\u001b[0;34m(\u001b[0m\u001b[0minput\u001b[0m\u001b[0;34m)\u001b[0m\u001b[0;34m\u001b[0m\u001b[0;34m\u001b[0m\u001b[0m\n\u001b[0m\u001b[1;32m    218\u001b[0m         \u001b[0;32mreturn\u001b[0m \u001b[0minput\u001b[0m\u001b[0;34m\u001b[0m\u001b[0;34m\u001b[0m\u001b[0m\n\u001b[1;32m    219\u001b[0m \u001b[0;34m\u001b[0m\u001b[0m\n",
            "\u001b[0;32m/usr/local/lib/python3.10/dist-packages/torch/nn/modules/module.py\u001b[0m in \u001b[0;36m_call_impl\u001b[0;34m(self, *args, **kwargs)\u001b[0m\n\u001b[1;32m   1499\u001b[0m                 \u001b[0;32mor\u001b[0m \u001b[0m_global_backward_pre_hooks\u001b[0m \u001b[0;32mor\u001b[0m \u001b[0m_global_backward_hooks\u001b[0m\u001b[0;34m\u001b[0m\u001b[0;34m\u001b[0m\u001b[0m\n\u001b[1;32m   1500\u001b[0m                 or _global_forward_hooks or _global_forward_pre_hooks):\n\u001b[0;32m-> 1501\u001b[0;31m             \u001b[0;32mreturn\u001b[0m \u001b[0mforward_call\u001b[0m\u001b[0;34m(\u001b[0m\u001b[0;34m*\u001b[0m\u001b[0margs\u001b[0m\u001b[0;34m,\u001b[0m \u001b[0;34m**\u001b[0m\u001b[0mkwargs\u001b[0m\u001b[0;34m)\u001b[0m\u001b[0;34m\u001b[0m\u001b[0;34m\u001b[0m\u001b[0m\n\u001b[0m\u001b[1;32m   1502\u001b[0m         \u001b[0;31m# Do not call functions when jit is used\u001b[0m\u001b[0;34m\u001b[0m\u001b[0;34m\u001b[0m\u001b[0m\n\u001b[1;32m   1503\u001b[0m         \u001b[0mfull_backward_hooks\u001b[0m\u001b[0;34m,\u001b[0m \u001b[0mnon_full_backward_hooks\u001b[0m \u001b[0;34m=\u001b[0m \u001b[0;34m[\u001b[0m\u001b[0;34m]\u001b[0m\u001b[0;34m,\u001b[0m \u001b[0;34m[\u001b[0m\u001b[0;34m]\u001b[0m\u001b[0;34m\u001b[0m\u001b[0;34m\u001b[0m\u001b[0m\n",
            "\u001b[0;32m/usr/local/lib/python3.10/dist-packages/torch/nn/modules/linear.py\u001b[0m in \u001b[0;36mforward\u001b[0;34m(self, input)\u001b[0m\n\u001b[1;32m    112\u001b[0m \u001b[0;34m\u001b[0m\u001b[0m\n\u001b[1;32m    113\u001b[0m     \u001b[0;32mdef\u001b[0m \u001b[0mforward\u001b[0m\u001b[0;34m(\u001b[0m\u001b[0mself\u001b[0m\u001b[0;34m,\u001b[0m \u001b[0minput\u001b[0m\u001b[0;34m:\u001b[0m \u001b[0mTensor\u001b[0m\u001b[0;34m)\u001b[0m \u001b[0;34m->\u001b[0m \u001b[0mTensor\u001b[0m\u001b[0;34m:\u001b[0m\u001b[0;34m\u001b[0m\u001b[0;34m\u001b[0m\u001b[0m\n\u001b[0;32m--> 114\u001b[0;31m         \u001b[0;32mreturn\u001b[0m \u001b[0mF\u001b[0m\u001b[0;34m.\u001b[0m\u001b[0mlinear\u001b[0m\u001b[0;34m(\u001b[0m\u001b[0minput\u001b[0m\u001b[0;34m,\u001b[0m \u001b[0mself\u001b[0m\u001b[0;34m.\u001b[0m\u001b[0mweight\u001b[0m\u001b[0;34m,\u001b[0m \u001b[0mself\u001b[0m\u001b[0;34m.\u001b[0m\u001b[0mbias\u001b[0m\u001b[0;34m)\u001b[0m\u001b[0;34m\u001b[0m\u001b[0;34m\u001b[0m\u001b[0m\n\u001b[0m\u001b[1;32m    115\u001b[0m \u001b[0;34m\u001b[0m\u001b[0m\n\u001b[1;32m    116\u001b[0m     \u001b[0;32mdef\u001b[0m \u001b[0mextra_repr\u001b[0m\u001b[0;34m(\u001b[0m\u001b[0mself\u001b[0m\u001b[0;34m)\u001b[0m \u001b[0;34m->\u001b[0m \u001b[0mstr\u001b[0m\u001b[0;34m:\u001b[0m\u001b[0;34m\u001b[0m\u001b[0;34m\u001b[0m\u001b[0m\n",
            "\u001b[0;31mRuntimeError\u001b[0m: mat1 and mat2 shapes cannot be multiplied (60x40 and 3x40)"
          ]
        }
      ]
    },
    {
      "cell_type": "code",
      "source": [
        "# @title Boxplot for MSE losses (Pupil to Neural PCs)\n",
        "with open(folder_path+\"PtoN_models\", 'rb') as file:\n",
        "    output = pickle.load(file)\n",
        "\n",
        "file_names_list = [model['file_name'] for model in output]\n",
        "train_losses_list = [model['train_losses'] for model in output]\n",
        "test_losses_list = [model['test_losses_MSE'] for model in output]\n",
        "test_losses_R2_list = [model['test_losses_R2'] for model in output]\n",
        "\n",
        "fig,ax = plt.subplots(1,1,figsize=(3,5))\n",
        "\n",
        "for i in range(len(output)):\n",
        "    c = plt.cm.Greys(0.50)\n",
        "    ax.boxplot([train_losses_list[i]],positions=[i],labels=[\"_\".join(file_names_list[i].split('_')[1:])],\n",
        "                notch=False, patch_artist=True,\n",
        "                boxprops=dict(facecolor=c, color=c),\n",
        "                capprops=dict(color=c),\n",
        "                whiskerprops=dict(color=c),\n",
        "                flierprops=dict(color=c, markeredgecolor=c),\n",
        "                medianprops=dict(color=c))\n",
        "    c = plt.cm.Greys(0.75)\n",
        "    ax.boxplot([test_losses_list[i]],positions=[i+0.5],labels=[\"_\".join(file_names_list[i].split('_')[1:])],\n",
        "               notch=False, patch_artist=True,\n",
        "                boxprops=dict(facecolor=c, color=c),\n",
        "                capprops=dict(color=c),\n",
        "                whiskerprops=dict(color=c),\n",
        "                flierprops=dict(color=c, markeredgecolor=c),\n",
        "                medianprops=dict(color=c),)\n",
        "\n",
        "ax.set_xticks(ax.get_xticks(),ax.get_xticklabels(),rotation=90)\n",
        "\n",
        "import matplotlib.patches as mpatches\n",
        "\n",
        "train_patch = mpatches.Patch(color=plt.cm.Greys(0.50), label='Train')\n",
        "test_patch = mpatches.Patch(color=plt.cm.Greys(0.75), label='Test')\n",
        "plt.legend(handles=[train_patch,test_patch], frameon=False)\n",
        "\n",
        "plt.title('Performance (MSE) of MLP Models (Pupil to Neural PCs)')\n",
        "\n",
        "# Add y-axis label\n",
        "plt.ylabel('Loss')\n",
        "\n",
        "# Show the plot\n",
        "plt.show()"
      ],
      "metadata": {
        "id": "hHG4Ac2yeHmx"
      },
      "execution_count": null,
      "outputs": []
    },
    {
      "cell_type": "code",
      "source": [
        "!pip install brokenaxes"
      ],
      "metadata": {
        "id": "Qc_C4Z1Pev6N"
      },
      "execution_count": null,
      "outputs": []
    },
    {
      "cell_type": "code",
      "source": [
        "# @title Boxplot for R2 (Pupil to Neural PCs)\n",
        "\n",
        "with open(folder_path+\"PtoN_models\", 'rb') as file:\n",
        "    output = pickle.load(file)\n",
        "\n",
        "file_names_list = [model['file_name'] for model in output]\n",
        "train_losses_list = [model['train_losses'] for model in output]\n",
        "test_losses_list = [model['test_losses_MSE'] for model in output]\n",
        "test_losses_R2_list = [model['test_losses_R2'] for model in output]\n",
        "\n",
        "fig,ax = plt.subplots(1,1,figsize=(3,5))\n",
        "\n",
        "for i in range(len(output)):\n",
        "    c = plt.cm.Greys(0.50)\n",
        "    ax.boxplot([train_losses_list[i]],positions=[i],labels=[\"_\".join(file_names_list[i].split('_')[1:])],\n",
        "                notch=False, patch_artist=True,\n",
        "                boxprops=dict(facecolor=c, color=c),\n",
        "                capprops=dict(color=c),\n",
        "                whiskerprops=dict(color=c),\n",
        "                flierprops=dict(color=c, markeredgecolor=c),\n",
        "                medianprops=dict(color=c))\n",
        "    c = plt.cm.Greys(0.75)\n",
        "    ax.boxplot([test_losses_R2_list[i]],positions=[i+0.5],labels=[\"_\".join(file_names_list[i].split('_')[1:])],\n",
        "               notch=False, patch_artist=True,\n",
        "                boxprops=dict(facecolor=c, color=c),\n",
        "                capprops=dict(color=c),\n",
        "                whiskerprops=dict(color=c),\n",
        "                flierprops=dict(color=c, markeredgecolor=c),\n",
        "                medianprops=dict(color=c),)\n",
        "\n",
        "ax.set_xticks(ax.get_xticks(),ax.get_xticklabels(),rotation=90)\n",
        "\n",
        "import matplotlib.patches as mpatches\n",
        "\n",
        "train_patch = mpatches.Patch(color=plt.cm.Greys(0.50), label='Train')\n",
        "test_patch = mpatches.Patch(color=plt.cm.Greys(0.75), label='Test')\n",
        "plt.legend(handles=[train_patch,test_patch], frameon=False)\n",
        "\n",
        "plt.title('Performance (R2) of MLP Models (Pupil to Neural PCs)')\n",
        "\n",
        "# Add y-axis label\n",
        "plt.ylabel('R2')\n",
        "\n",
        "# Show the plot\n",
        "plt.show()"
      ],
      "metadata": {
        "id": "ngD8GOB4Yj-t"
      },
      "execution_count": null,
      "outputs": []
    },
    {
      "cell_type": "code",
      "source": [
        "# @title Get test MSE losses, R2 from all NEURAL SPIKES -> PUPIL models\n",
        "file_name = ['best deep MLP_1*32_StoP',\n",
        "             'best deep MLP_2*32_StoP']\n",
        "\n",
        "StoP_models = []\n",
        "\n",
        "for i in range(len(file_name)):\n",
        "\n",
        "  path = folder_path + file_name[i]\n",
        "\n",
        "  train_losses = []\n",
        "  test_losses_MSE = []\n",
        "  test_losses_R2 = []\n",
        "\n",
        "  with open(path, 'rb') as file:\n",
        "      output = pickle.load(file)\n",
        "\n",
        "  print(output)\n",
        "\n",
        "  for j in range(5):\n",
        "\n",
        "      train_loss = output[j][-1]\n",
        "      model = output[j][2]\n",
        "\n",
        "      loss = nn.MSELoss()\n",
        "\n",
        "      test_loss_MSE = test(x_test, y_test, model, loss)\n",
        "      test_loss_R2 = test_r2(x_test, y_test, model, loss)\n",
        "\n",
        "      train_losses.append(train_loss)\n",
        "      test_losses_MSE.append(test_loss_MSE)\n",
        "      test_losses_R2.append(test_loss_R2)\n",
        "\n",
        "  loss_summary = {\n",
        "        'file_name': file_name[i],\n",
        "        'train_losses': train_losses,\n",
        "        'test_losses_MSE': test_losses_MSE,\n",
        "        'test_losses_R2': test_losses_R2\n",
        "  }\n",
        "\n",
        "  StoP_models.append(loss_summary)\n",
        "\n",
        "file_name = 'StoP_models'\n",
        "path = folder_path + file_name\n",
        "\n",
        "with open(path, 'wb') as file:\n",
        "  pickle.dump(StoP_models, file)"
      ],
      "metadata": {
        "id": "-Q05NO_6i8yb"
      },
      "execution_count": null,
      "outputs": []
    },
    {
      "cell_type": "code",
      "source": [
        "# @title Boxplot for MSE losses (neural spikes to pupil)\n",
        "with open(folder_path+\"StoP_models\", 'rb') as file:\n",
        "    output = pickle.load(file)\n",
        "\n",
        "file_names_list = [model['file_name'] for model in output]\n",
        "train_losses_list = [model['train_losses'] for model in output]\n",
        "test_losses_list = [model['test_losses_MSE'] for model in output]\n",
        "test_losses_R2_list = [model['test_losses_R2'] for model in output]\n",
        "\n",
        "fig,ax = plt.subplots(1,1,figsize=(3,5))\n",
        "\n",
        "for i in range(len(output)):\n",
        "    c = plt.cm.Greys(0.50)\n",
        "    ax.boxplot([train_losses_list[i]],positions=[i],labels=[\"_\".join(file_names_list[i].split('_')[1:])],\n",
        "                notch=False, patch_artist=True,\n",
        "                boxprops=dict(facecolor=c, color=c),\n",
        "                capprops=dict(color=c),\n",
        "                whiskerprops=dict(color=c),\n",
        "                flierprops=dict(color=c, markeredgecolor=c),\n",
        "                medianprops=dict(color=c))\n",
        "    c = plt.cm.Greys(0.75)\n",
        "    ax.boxplot([test_losses_list[i]],positions=[i+0.5],labels=[\"_\".join(file_names_list[i].split('_')[1:])],\n",
        "               notch=False, patch_artist=True,\n",
        "                boxprops=dict(facecolor=c, color=c),\n",
        "                capprops=dict(color=c),\n",
        "                whiskerprops=dict(color=c),\n",
        "                flierprops=dict(color=c, markeredgecolor=c),\n",
        "                medianprops=dict(color=c),)\n",
        "\n",
        "ax.set_xticks(ax.get_xticks(),ax.get_xticklabels(),rotation=90)\n",
        "\n",
        "import matplotlib.patches as mpatches\n",
        "\n",
        "train_patch = mpatches.Patch(color=plt.cm.Greys(0.50), label='Train')\n",
        "test_patch = mpatches.Patch(color=plt.cm.Greys(0.75), label='Test')\n",
        "plt.legend(handles=[train_patch,test_patch], frameon=False)\n",
        "\n",
        "plt.title('Performance (MSE) of MLP Models (Spikes to Pupil)')\n",
        "\n",
        "# Add y-axis label\n",
        "plt.ylabel('Loss')\n",
        "\n",
        "# Show the plot\n",
        "plt.show()"
      ],
      "metadata": {
        "id": "08Oq8LaqaHio"
      },
      "execution_count": null,
      "outputs": []
    },
    {
      "cell_type": "code",
      "source": [
        "# @title Boxplot for R2 (neural spikes to pupil)\n",
        "with open(folder_path+\"StoP_models\", 'rb') as file:\n",
        "    output = pickle.load(file)\n",
        "\n",
        "file_names_list = [model['file_name'] for model in output]\n",
        "train_losses_list = [model['train_losses'] for model in output]\n",
        "test_losses_list = [model['test_losses_MSE'] for model in output]\n",
        "test_losses_R2_list = [model['test_losses_R2'] for model in output]\n",
        "\n",
        "fig,ax = plt.subplots(1,1,figsize=(3,5))\n",
        "\n",
        "for i in range(len(output)):\n",
        "    c = plt.cm.Greys(0.50)\n",
        "    ax.boxplot([train_losses_list[i]],positions=[i],labels=[\"_\".join(file_names_list[i].split('_')[1:])],\n",
        "                notch=False, patch_artist=True,\n",
        "                boxprops=dict(facecolor=c, color=c),\n",
        "                capprops=dict(color=c),\n",
        "                whiskerprops=dict(color=c),\n",
        "                flierprops=dict(color=c, markeredgecolor=c),\n",
        "                medianprops=dict(color=c))\n",
        "    c = plt.cm.Greys(0.75)\n",
        "    ax.boxplot([test_losses_R2_list[i]],positions=[i+0.5],labels=[\"_\".join(file_names_list[i].split('_')[1:])],\n",
        "               notch=False, patch_artist=True,\n",
        "                boxprops=dict(facecolor=c, color=c),\n",
        "                capprops=dict(color=c),\n",
        "                whiskerprops=dict(color=c),\n",
        "                flierprops=dict(color=c, markeredgecolor=c),\n",
        "                medianprops=dict(color=c),)\n",
        "\n",
        "ax.set_xticks(ax.get_xticks(),ax.get_xticklabels(),rotation=90)\n",
        "\n",
        "import matplotlib.patches as mpatches\n",
        "\n",
        "train_patch = mpatches.Patch(color=plt.cm.Greys(0.50), label='Train')\n",
        "test_patch = mpatches.Patch(color=plt.cm.Greys(0.75), label='Test')\n",
        "plt.legend(handles=[train_patch,test_patch], frameon=False)\n",
        "\n",
        "plt.title('Performance (R2) of MLP Models (Spikes to Pupil)')\n",
        "\n",
        "# Add y-axis label\n",
        "plt.ylabel('R2')\n",
        "\n",
        "# Show the plot\n",
        "plt.show()"
      ],
      "metadata": {
        "id": "Ac5ApSe1aR-z"
      },
      "execution_count": null,
      "outputs": []
    }
  ]
}